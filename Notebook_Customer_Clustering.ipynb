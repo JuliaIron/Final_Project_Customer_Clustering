{
 "cells": [
  {
   "cell_type": "markdown",
   "id": "e1397f28",
   "metadata": {},
   "source": [
    "#### Import libraries"
   ]
  },
  {
   "cell_type": "code",
   "execution_count": 1,
   "id": "b6a53bf5",
   "metadata": {},
   "outputs": [],
   "source": [
    "import pandas as pd\n",
    "import numpy as np\n",
    "from sklearn.preprocessing import StandardScaler\n",
    "from sklearn.cluster import KMeans\n",
    "from sklearn.metrics import silhouette_score"
   ]
  },
  {
   "cell_type": "code",
   "execution_count": 2,
   "id": "f19ef55c",
   "metadata": {},
   "outputs": [],
   "source": [
    "import matplotlib.pyplot as plt\n",
    "from matplotlib.collections import LineCollection\n",
    "%matplotlib inline\n",
    "from matplotlib import pyplot\n",
    "import seaborn as sns\n",
    "\n",
    "import random\n",
    "import datetime as dt\n",
    "import pickle\n",
    "pd.set_option('display.max_columns', None)"
   ]
  },
  {
   "cell_type": "code",
   "execution_count": 3,
   "id": "79e1e88f",
   "metadata": {},
   "outputs": [],
   "source": [
    "from mlxtend.frequent_patterns import apriori\n",
    "from mlxtend.frequent_patterns import association_rules"
   ]
  },
  {
   "cell_type": "markdown",
   "id": "94e74f95",
   "metadata": {},
   "source": [
    "### Exploratory data analysis"
   ]
  },
  {
   "cell_type": "code",
   "execution_count": 4,
   "id": "465faa1c",
   "metadata": {},
   "outputs": [],
   "source": [
    "# Read data set \n",
    "\n",
    "df = pd.read_excel(\"Data/Online_Retail.xlsx\")"
   ]
  },
  {
   "cell_type": "code",
   "execution_count": 5,
   "id": "1b9851eb",
   "metadata": {},
   "outputs": [
    {
     "data": {
      "text/html": [
       "<div>\n",
       "<style scoped>\n",
       "    .dataframe tbody tr th:only-of-type {\n",
       "        vertical-align: middle;\n",
       "    }\n",
       "\n",
       "    .dataframe tbody tr th {\n",
       "        vertical-align: top;\n",
       "    }\n",
       "\n",
       "    .dataframe thead th {\n",
       "        text-align: right;\n",
       "    }\n",
       "</style>\n",
       "<table border=\"1\" class=\"dataframe\">\n",
       "  <thead>\n",
       "    <tr style=\"text-align: right;\">\n",
       "      <th></th>\n",
       "      <th>InvoiceNo</th>\n",
       "      <th>StockCode</th>\n",
       "      <th>Description</th>\n",
       "      <th>Quantity</th>\n",
       "      <th>InvoiceDate</th>\n",
       "      <th>UnitPrice</th>\n",
       "      <th>CustomerID</th>\n",
       "      <th>Country</th>\n",
       "    </tr>\n",
       "  </thead>\n",
       "  <tbody>\n",
       "    <tr>\n",
       "      <th>0</th>\n",
       "      <td>536365</td>\n",
       "      <td>85123A</td>\n",
       "      <td>WHITE HANGING HEART T-LIGHT HOLDER</td>\n",
       "      <td>6</td>\n",
       "      <td>2010-12-01 08:26:00</td>\n",
       "      <td>2.55</td>\n",
       "      <td>17850.0</td>\n",
       "      <td>United Kingdom</td>\n",
       "    </tr>\n",
       "    <tr>\n",
       "      <th>1</th>\n",
       "      <td>536365</td>\n",
       "      <td>71053</td>\n",
       "      <td>WHITE METAL LANTERN</td>\n",
       "      <td>6</td>\n",
       "      <td>2010-12-01 08:26:00</td>\n",
       "      <td>3.39</td>\n",
       "      <td>17850.0</td>\n",
       "      <td>United Kingdom</td>\n",
       "    </tr>\n",
       "    <tr>\n",
       "      <th>2</th>\n",
       "      <td>536365</td>\n",
       "      <td>84406B</td>\n",
       "      <td>CREAM CUPID HEARTS COAT HANGER</td>\n",
       "      <td>8</td>\n",
       "      <td>2010-12-01 08:26:00</td>\n",
       "      <td>2.75</td>\n",
       "      <td>17850.0</td>\n",
       "      <td>United Kingdom</td>\n",
       "    </tr>\n",
       "    <tr>\n",
       "      <th>3</th>\n",
       "      <td>536365</td>\n",
       "      <td>84029G</td>\n",
       "      <td>KNITTED UNION FLAG HOT WATER BOTTLE</td>\n",
       "      <td>6</td>\n",
       "      <td>2010-12-01 08:26:00</td>\n",
       "      <td>3.39</td>\n",
       "      <td>17850.0</td>\n",
       "      <td>United Kingdom</td>\n",
       "    </tr>\n",
       "    <tr>\n",
       "      <th>4</th>\n",
       "      <td>536365</td>\n",
       "      <td>84029E</td>\n",
       "      <td>RED WOOLLY HOTTIE WHITE HEART.</td>\n",
       "      <td>6</td>\n",
       "      <td>2010-12-01 08:26:00</td>\n",
       "      <td>3.39</td>\n",
       "      <td>17850.0</td>\n",
       "      <td>United Kingdom</td>\n",
       "    </tr>\n",
       "  </tbody>\n",
       "</table>\n",
       "</div>"
      ],
      "text/plain": [
       "  InvoiceNo StockCode                          Description  Quantity  \\\n",
       "0    536365    85123A   WHITE HANGING HEART T-LIGHT HOLDER         6   \n",
       "1    536365     71053                  WHITE METAL LANTERN         6   \n",
       "2    536365    84406B       CREAM CUPID HEARTS COAT HANGER         8   \n",
       "3    536365    84029G  KNITTED UNION FLAG HOT WATER BOTTLE         6   \n",
       "4    536365    84029E       RED WOOLLY HOTTIE WHITE HEART.         6   \n",
       "\n",
       "          InvoiceDate  UnitPrice  CustomerID         Country  \n",
       "0 2010-12-01 08:26:00       2.55     17850.0  United Kingdom  \n",
       "1 2010-12-01 08:26:00       3.39     17850.0  United Kingdom  \n",
       "2 2010-12-01 08:26:00       2.75     17850.0  United Kingdom  \n",
       "3 2010-12-01 08:26:00       3.39     17850.0  United Kingdom  \n",
       "4 2010-12-01 08:26:00       3.39     17850.0  United Kingdom  "
      ]
     },
     "execution_count": 5,
     "metadata": {},
     "output_type": "execute_result"
    }
   ],
   "source": [
    "df.head()"
   ]
  },
  {
   "cell_type": "code",
   "execution_count": 6,
   "id": "0bcb07eb",
   "metadata": {},
   "outputs": [
    {
     "name": "stdout",
     "output_type": "stream",
     "text": [
      "<class 'pandas.core.frame.DataFrame'>\n",
      "RangeIndex: 541909 entries, 0 to 541908\n",
      "Data columns (total 8 columns):\n",
      " #   Column       Non-Null Count   Dtype         \n",
      "---  ------       --------------   -----         \n",
      " 0   InvoiceNo    541909 non-null  object        \n",
      " 1   StockCode    541909 non-null  object        \n",
      " 2   Description  540455 non-null  object        \n",
      " 3   Quantity     541909 non-null  int64         \n",
      " 4   InvoiceDate  541909 non-null  datetime64[ns]\n",
      " 5   UnitPrice    541909 non-null  float64       \n",
      " 6   CustomerID   406829 non-null  float64       \n",
      " 7   Country      541909 non-null  object        \n",
      "dtypes: datetime64[ns](1), float64(2), int64(1), object(4)\n",
      "memory usage: 33.1+ MB\n"
     ]
    }
   ],
   "source": [
    "df.info()\n",
    "\n",
    "# The data set contains of 541.909 rows and 8 columns\n",
    "# For attribute description, see the readme in my repository \n",
    "# Keep all the columns as they all contain necessary data. Moreover, later we gonna add some columns"
   ]
  },
  {
   "cell_type": "code",
   "execution_count": 7,
   "id": "193618e9",
   "metadata": {},
   "outputs": [
    {
     "data": {
      "text/plain": [
       "InvoiceNo              object\n",
       "StockCode              object\n",
       "Description            object\n",
       "Quantity                int64\n",
       "InvoiceDate    datetime64[ns]\n",
       "UnitPrice             float64\n",
       "CustomerID            float64\n",
       "Country                object\n",
       "dtype: object"
      ]
     },
     "execution_count": 7,
     "metadata": {},
     "output_type": "execute_result"
    }
   ],
   "source": [
    "df.dtypes\n",
    "\n",
    "# All data types look good. There is no category data type. Later I might seperate the time from the date, in order to analyse the customer shopping behaviour"
   ]
  },
  {
   "cell_type": "code",
   "execution_count": 8,
   "id": "4361c976",
   "metadata": {},
   "outputs": [
    {
     "name": "stdout",
     "output_type": "stream",
     "text": [
      "There are 25900 unique orders.\n",
      "There are 4070 unique products.\n",
      "There are 4372 unique customers.\n",
      "The customers are from 38 different countries.\n"
     ]
    }
   ],
   "source": [
    "df.nunique()\n",
    "\n",
    "print(\"There are \" + str(df.InvoiceNo.nunique()) + \" unique orders.\")\n",
    "print(\"There are \" + str(df.StockCode.nunique()) + \" unique products.\")\n",
    "print(\"There are \" + str(df.CustomerID.nunique()) + \" unique customers.\")\n",
    "print(\"The customers are from \" + str(df.Country.nunique()) + \" different countries.\")"
   ]
  },
  {
   "cell_type": "code",
   "execution_count": 9,
   "id": "a9455a70",
   "metadata": {},
   "outputs": [
    {
     "data": {
      "text/plain": [
       "InvoiceNo      25900\n",
       "StockCode       4070\n",
       "Description     4223\n",
       "Quantity         722\n",
       "InvoiceDate    23260\n",
       "UnitPrice       1630\n",
       "CustomerID      4372\n",
       "Country           38\n",
       "dtype: int64"
      ]
     },
     "execution_count": 9,
     "metadata": {},
     "output_type": "execute_result"
    }
   ],
   "source": [
    "df.nunique()"
   ]
  },
  {
   "cell_type": "code",
   "execution_count": 10,
   "id": "9a00e07b",
   "metadata": {},
   "outputs": [
    {
     "data": {
      "text/plain": [
       "573585     1114\n",
       "581219      749\n",
       "581492      731\n",
       "580729      721\n",
       "558475      705\n",
       "           ... \n",
       "554023        1\n",
       "554022        1\n",
       "554021        1\n",
       "554020        1\n",
       "C558901       1\n",
       "Name: InvoiceNo, Length: 25900, dtype: int64"
      ]
     },
     "execution_count": 10,
     "metadata": {},
     "output_type": "execute_result"
    }
   ],
   "source": [
    "df.InvoiceNo.value_counts(dropna=False)\n",
    "\n",
    "# There is an invoice number which appears 1114 times. This means, one purchase contains 1114 articles "
   ]
  },
  {
   "cell_type": "code",
   "execution_count": 11,
   "id": "4ab70a85",
   "metadata": {},
   "outputs": [
    {
     "data": {
      "text/plain": [
       "85123A    2313\n",
       "22423     2203\n",
       "85099B    2159\n",
       "47566     1727\n",
       "20725     1639\n",
       "          ... \n",
       "21431        1\n",
       "22275        1\n",
       "17001        1\n",
       "90187A       1\n",
       "72759        1\n",
       "Name: StockCode, Length: 4070, dtype: int64"
      ]
     },
     "execution_count": 11,
     "metadata": {},
     "output_type": "execute_result"
    }
   ],
   "source": [
    "df.StockCode.value_counts(dropna=False)\n",
    "\n",
    "# A product that has been sold 2313 times "
   ]
  },
  {
   "cell_type": "code",
   "execution_count": 12,
   "id": "14af84a6",
   "metadata": {},
   "outputs": [
    {
     "data": {
      "text/plain": [
       "NaN        135080\n",
       "17841.0      7983\n",
       "14911.0      5903\n",
       "14096.0      5128\n",
       "12748.0      4642\n",
       "            ...  \n",
       "13270.0         1\n",
       "17763.0         1\n",
       "17291.0         1\n",
       "15668.0         1\n",
       "15562.0         1\n",
       "Name: CustomerID, Length: 4373, dtype: int64"
      ]
     },
     "execution_count": 12,
     "metadata": {},
     "output_type": "execute_result"
    }
   ],
   "source": [
    "df.CustomerID.value_counts(dropna=False)\n",
    "\n",
    "# 135.080 rows with missing customerIDs. That´s a lot! (might drop them later)"
   ]
  },
  {
   "cell_type": "code",
   "execution_count": 13,
   "id": "bc83feac",
   "metadata": {},
   "outputs": [
    {
     "data": {
      "text/html": [
       "<div>\n",
       "<style scoped>\n",
       "    .dataframe tbody tr th:only-of-type {\n",
       "        vertical-align: middle;\n",
       "    }\n",
       "\n",
       "    .dataframe tbody tr th {\n",
       "        vertical-align: top;\n",
       "    }\n",
       "\n",
       "    .dataframe thead th {\n",
       "        text-align: right;\n",
       "    }\n",
       "</style>\n",
       "<table border=\"1\" class=\"dataframe\">\n",
       "  <thead>\n",
       "    <tr style=\"text-align: right;\">\n",
       "      <th></th>\n",
       "      <th>Quantity</th>\n",
       "      <th>UnitPrice</th>\n",
       "      <th>CustomerID</th>\n",
       "    </tr>\n",
       "  </thead>\n",
       "  <tbody>\n",
       "    <tr>\n",
       "      <th>count</th>\n",
       "      <td>541909.000000</td>\n",
       "      <td>541909.000000</td>\n",
       "      <td>406829.000000</td>\n",
       "    </tr>\n",
       "    <tr>\n",
       "      <th>mean</th>\n",
       "      <td>9.552250</td>\n",
       "      <td>4.611114</td>\n",
       "      <td>15287.690570</td>\n",
       "    </tr>\n",
       "    <tr>\n",
       "      <th>std</th>\n",
       "      <td>218.081158</td>\n",
       "      <td>96.759853</td>\n",
       "      <td>1713.600303</td>\n",
       "    </tr>\n",
       "    <tr>\n",
       "      <th>min</th>\n",
       "      <td>-80995.000000</td>\n",
       "      <td>-11062.060000</td>\n",
       "      <td>12346.000000</td>\n",
       "    </tr>\n",
       "    <tr>\n",
       "      <th>25%</th>\n",
       "      <td>1.000000</td>\n",
       "      <td>1.250000</td>\n",
       "      <td>13953.000000</td>\n",
       "    </tr>\n",
       "    <tr>\n",
       "      <th>50%</th>\n",
       "      <td>3.000000</td>\n",
       "      <td>2.080000</td>\n",
       "      <td>15152.000000</td>\n",
       "    </tr>\n",
       "    <tr>\n",
       "      <th>75%</th>\n",
       "      <td>10.000000</td>\n",
       "      <td>4.130000</td>\n",
       "      <td>16791.000000</td>\n",
       "    </tr>\n",
       "    <tr>\n",
       "      <th>max</th>\n",
       "      <td>80995.000000</td>\n",
       "      <td>38970.000000</td>\n",
       "      <td>18287.000000</td>\n",
       "    </tr>\n",
       "  </tbody>\n",
       "</table>\n",
       "</div>"
      ],
      "text/plain": [
       "            Quantity      UnitPrice     CustomerID\n",
       "count  541909.000000  541909.000000  406829.000000\n",
       "mean        9.552250       4.611114   15287.690570\n",
       "std       218.081158      96.759853    1713.600303\n",
       "min    -80995.000000  -11062.060000   12346.000000\n",
       "25%         1.000000       1.250000   13953.000000\n",
       "50%         3.000000       2.080000   15152.000000\n",
       "75%        10.000000       4.130000   16791.000000\n",
       "max     80995.000000   38970.000000   18287.000000"
      ]
     },
     "execution_count": 13,
     "metadata": {},
     "output_type": "execute_result"
    }
   ],
   "source": [
    "df.describe()\n",
    "\n",
    "# There are negative unit prices and quantity (in case of cancellation). To be removed\n",
    "# There are ouliters in quantity and unit price that have to be removed"
   ]
  },
  {
   "cell_type": "code",
   "execution_count": 14,
   "id": "de7a3382",
   "metadata": {},
   "outputs": [
    {
     "data": {
      "text/plain": [
       "WHITE HANGING HEART T-LIGHT HOLDER    2369\n",
       "REGENCY CAKESTAND 3 TIER              2200\n",
       "JUMBO BAG RED RETROSPOT               2159\n",
       "PARTY BUNTING                         1727\n",
       "LUNCH BAG RED RETROSPOT               1638\n",
       "Name: Description, dtype: int64"
      ]
     },
     "execution_count": 14,
     "metadata": {},
     "output_type": "execute_result"
    }
   ],
   "source": [
    "df['Description'].value_counts().head()\n",
    "\n",
    "# Which items were sold most often"
   ]
  },
  {
   "cell_type": "markdown",
   "id": "f7120880",
   "metadata": {},
   "source": [
    "### Data cleaning "
   ]
  },
  {
   "cell_type": "markdown",
   "id": "e0cc8c06",
   "metadata": {},
   "source": [
    "##### Null Values Handling"
   ]
  },
  {
   "cell_type": "code",
   "execution_count": 15,
   "id": "a9df7d2c",
   "metadata": {},
   "outputs": [
    {
     "data": {
      "text/plain": [
       "CustomerID     135080\n",
       "Description      1454\n",
       "InvoiceNo           0\n",
       "StockCode           0\n",
       "Quantity            0\n",
       "InvoiceDate         0\n",
       "UnitPrice           0\n",
       "Country             0\n",
       "dtype: int64"
      ]
     },
     "execution_count": 15,
     "metadata": {},
     "output_type": "execute_result"
    }
   ],
   "source": [
    "df.isnull().sum().sort_values(ascending=False)"
   ]
  },
  {
   "cell_type": "code",
   "execution_count": 16,
   "id": "4480056c",
   "metadata": {},
   "outputs": [
    {
     "data": {
      "text/plain": [
       "135080"
      ]
     },
     "execution_count": 16,
     "metadata": {},
     "output_type": "execute_result"
    }
   ],
   "source": [
    "# drop null values in customer id and description.(nulls in description also have no customer and price, so not needed) We can´t work with null-customers \n",
    "\n",
    "df.CustomerID.isnull().values.sum()"
   ]
  },
  {
   "cell_type": "code",
   "execution_count": 17,
   "id": "574baa4b",
   "metadata": {},
   "outputs": [
    {
     "data": {
      "text/plain": [
       "1454"
      ]
     },
     "execution_count": 17,
     "metadata": {},
     "output_type": "execute_result"
    }
   ],
   "source": [
    "df.Description.isnull().values.sum()"
   ]
  },
  {
   "cell_type": "code",
   "execution_count": 18,
   "id": "e83d86fe",
   "metadata": {},
   "outputs": [],
   "source": [
    "df_clean = df.dropna()"
   ]
  },
  {
   "cell_type": "code",
   "execution_count": 19,
   "id": "fca6e43e",
   "metadata": {},
   "outputs": [
    {
     "data": {
      "text/html": [
       "<div>\n",
       "<style scoped>\n",
       "    .dataframe tbody tr th:only-of-type {\n",
       "        vertical-align: middle;\n",
       "    }\n",
       "\n",
       "    .dataframe tbody tr th {\n",
       "        vertical-align: top;\n",
       "    }\n",
       "\n",
       "    .dataframe thead th {\n",
       "        text-align: right;\n",
       "    }\n",
       "</style>\n",
       "<table border=\"1\" class=\"dataframe\">\n",
       "  <thead>\n",
       "    <tr style=\"text-align: right;\">\n",
       "      <th></th>\n",
       "      <th>InvoiceNo</th>\n",
       "      <th>StockCode</th>\n",
       "      <th>Description</th>\n",
       "      <th>Quantity</th>\n",
       "      <th>InvoiceDate</th>\n",
       "      <th>UnitPrice</th>\n",
       "      <th>CustomerID</th>\n",
       "      <th>Country</th>\n",
       "    </tr>\n",
       "  </thead>\n",
       "  <tbody>\n",
       "    <tr>\n",
       "      <th>0</th>\n",
       "      <td>536365</td>\n",
       "      <td>85123A</td>\n",
       "      <td>WHITE HANGING HEART T-LIGHT HOLDER</td>\n",
       "      <td>6</td>\n",
       "      <td>2010-12-01 08:26:00</td>\n",
       "      <td>2.55</td>\n",
       "      <td>17850.0</td>\n",
       "      <td>United Kingdom</td>\n",
       "    </tr>\n",
       "    <tr>\n",
       "      <th>1</th>\n",
       "      <td>536365</td>\n",
       "      <td>71053</td>\n",
       "      <td>WHITE METAL LANTERN</td>\n",
       "      <td>6</td>\n",
       "      <td>2010-12-01 08:26:00</td>\n",
       "      <td>3.39</td>\n",
       "      <td>17850.0</td>\n",
       "      <td>United Kingdom</td>\n",
       "    </tr>\n",
       "    <tr>\n",
       "      <th>2</th>\n",
       "      <td>536365</td>\n",
       "      <td>84406B</td>\n",
       "      <td>CREAM CUPID HEARTS COAT HANGER</td>\n",
       "      <td>8</td>\n",
       "      <td>2010-12-01 08:26:00</td>\n",
       "      <td>2.75</td>\n",
       "      <td>17850.0</td>\n",
       "      <td>United Kingdom</td>\n",
       "    </tr>\n",
       "    <tr>\n",
       "      <th>3</th>\n",
       "      <td>536365</td>\n",
       "      <td>84029G</td>\n",
       "      <td>KNITTED UNION FLAG HOT WATER BOTTLE</td>\n",
       "      <td>6</td>\n",
       "      <td>2010-12-01 08:26:00</td>\n",
       "      <td>3.39</td>\n",
       "      <td>17850.0</td>\n",
       "      <td>United Kingdom</td>\n",
       "    </tr>\n",
       "    <tr>\n",
       "      <th>4</th>\n",
       "      <td>536365</td>\n",
       "      <td>84029E</td>\n",
       "      <td>RED WOOLLY HOTTIE WHITE HEART.</td>\n",
       "      <td>6</td>\n",
       "      <td>2010-12-01 08:26:00</td>\n",
       "      <td>3.39</td>\n",
       "      <td>17850.0</td>\n",
       "      <td>United Kingdom</td>\n",
       "    </tr>\n",
       "  </tbody>\n",
       "</table>\n",
       "</div>"
      ],
      "text/plain": [
       "  InvoiceNo StockCode                          Description  Quantity  \\\n",
       "0    536365    85123A   WHITE HANGING HEART T-LIGHT HOLDER         6   \n",
       "1    536365     71053                  WHITE METAL LANTERN         6   \n",
       "2    536365    84406B       CREAM CUPID HEARTS COAT HANGER         8   \n",
       "3    536365    84029G  KNITTED UNION FLAG HOT WATER BOTTLE         6   \n",
       "4    536365    84029E       RED WOOLLY HOTTIE WHITE HEART.         6   \n",
       "\n",
       "          InvoiceDate  UnitPrice  CustomerID         Country  \n",
       "0 2010-12-01 08:26:00       2.55     17850.0  United Kingdom  \n",
       "1 2010-12-01 08:26:00       3.39     17850.0  United Kingdom  \n",
       "2 2010-12-01 08:26:00       2.75     17850.0  United Kingdom  \n",
       "3 2010-12-01 08:26:00       3.39     17850.0  United Kingdom  \n",
       "4 2010-12-01 08:26:00       3.39     17850.0  United Kingdom  "
      ]
     },
     "execution_count": 19,
     "metadata": {},
     "output_type": "execute_result"
    }
   ],
   "source": [
    "df_clean.head()"
   ]
  },
  {
   "cell_type": "code",
   "execution_count": 20,
   "id": "50c3aa16",
   "metadata": {},
   "outputs": [
    {
     "data": {
      "text/plain": [
       "InvoiceNo      0\n",
       "StockCode      0\n",
       "Description    0\n",
       "Quantity       0\n",
       "InvoiceDate    0\n",
       "UnitPrice      0\n",
       "CustomerID     0\n",
       "Country        0\n",
       "dtype: int64"
      ]
     },
     "execution_count": 20,
     "metadata": {},
     "output_type": "execute_result"
    }
   ],
   "source": [
    "df_clean.isna().sum()\n",
    "\n",
    "# Check if there are missing values in the new dataframe"
   ]
  },
  {
   "cell_type": "markdown",
   "id": "56da7274",
   "metadata": {},
   "source": [
    "##### Duplicates Removing"
   ]
  },
  {
   "cell_type": "code",
   "execution_count": 21,
   "id": "e138eae6",
   "metadata": {},
   "outputs": [
    {
     "data": {
      "text/html": [
       "<div>\n",
       "<style scoped>\n",
       "    .dataframe tbody tr th:only-of-type {\n",
       "        vertical-align: middle;\n",
       "    }\n",
       "\n",
       "    .dataframe tbody tr th {\n",
       "        vertical-align: top;\n",
       "    }\n",
       "\n",
       "    .dataframe thead th {\n",
       "        text-align: right;\n",
       "    }\n",
       "</style>\n",
       "<table border=\"1\" class=\"dataframe\">\n",
       "  <thead>\n",
       "    <tr style=\"text-align: right;\">\n",
       "      <th></th>\n",
       "      <th>InvoiceNo</th>\n",
       "      <th>StockCode</th>\n",
       "      <th>Description</th>\n",
       "      <th>Quantity</th>\n",
       "      <th>InvoiceDate</th>\n",
       "      <th>UnitPrice</th>\n",
       "      <th>CustomerID</th>\n",
       "      <th>Country</th>\n",
       "    </tr>\n",
       "  </thead>\n",
       "  <tbody>\n",
       "    <tr>\n",
       "      <th>517</th>\n",
       "      <td>536409</td>\n",
       "      <td>21866</td>\n",
       "      <td>UNION JACK FLAG LUGGAGE TAG</td>\n",
       "      <td>1</td>\n",
       "      <td>2010-12-01 11:45:00</td>\n",
       "      <td>1.25</td>\n",
       "      <td>17908.0</td>\n",
       "      <td>United Kingdom</td>\n",
       "    </tr>\n",
       "    <tr>\n",
       "      <th>527</th>\n",
       "      <td>536409</td>\n",
       "      <td>22866</td>\n",
       "      <td>HAND WARMER SCOTTY DOG DESIGN</td>\n",
       "      <td>1</td>\n",
       "      <td>2010-12-01 11:45:00</td>\n",
       "      <td>2.10</td>\n",
       "      <td>17908.0</td>\n",
       "      <td>United Kingdom</td>\n",
       "    </tr>\n",
       "    <tr>\n",
       "      <th>537</th>\n",
       "      <td>536409</td>\n",
       "      <td>22900</td>\n",
       "      <td>SET 2 TEA TOWELS I LOVE LONDON</td>\n",
       "      <td>1</td>\n",
       "      <td>2010-12-01 11:45:00</td>\n",
       "      <td>2.95</td>\n",
       "      <td>17908.0</td>\n",
       "      <td>United Kingdom</td>\n",
       "    </tr>\n",
       "    <tr>\n",
       "      <th>539</th>\n",
       "      <td>536409</td>\n",
       "      <td>22111</td>\n",
       "      <td>SCOTTIE DOG HOT WATER BOTTLE</td>\n",
       "      <td>1</td>\n",
       "      <td>2010-12-01 11:45:00</td>\n",
       "      <td>4.95</td>\n",
       "      <td>17908.0</td>\n",
       "      <td>United Kingdom</td>\n",
       "    </tr>\n",
       "    <tr>\n",
       "      <th>555</th>\n",
       "      <td>536412</td>\n",
       "      <td>22327</td>\n",
       "      <td>ROUND SNACK BOXES SET OF 4 SKULLS</td>\n",
       "      <td>1</td>\n",
       "      <td>2010-12-01 11:49:00</td>\n",
       "      <td>2.95</td>\n",
       "      <td>17920.0</td>\n",
       "      <td>United Kingdom</td>\n",
       "    </tr>\n",
       "  </tbody>\n",
       "</table>\n",
       "</div>"
      ],
      "text/plain": [
       "    InvoiceNo StockCode                        Description  Quantity  \\\n",
       "517    536409     21866        UNION JACK FLAG LUGGAGE TAG         1   \n",
       "527    536409     22866      HAND WARMER SCOTTY DOG DESIGN         1   \n",
       "537    536409     22900    SET 2 TEA TOWELS I LOVE LONDON          1   \n",
       "539    536409     22111       SCOTTIE DOG HOT WATER BOTTLE         1   \n",
       "555    536412     22327  ROUND SNACK BOXES SET OF 4 SKULLS         1   \n",
       "\n",
       "            InvoiceDate  UnitPrice  CustomerID         Country  \n",
       "517 2010-12-01 11:45:00       1.25     17908.0  United Kingdom  \n",
       "527 2010-12-01 11:45:00       2.10     17908.0  United Kingdom  \n",
       "537 2010-12-01 11:45:00       2.95     17908.0  United Kingdom  \n",
       "539 2010-12-01 11:45:00       4.95     17908.0  United Kingdom  \n",
       "555 2010-12-01 11:49:00       2.95     17920.0  United Kingdom  "
      ]
     },
     "execution_count": 21,
     "metadata": {},
     "output_type": "execute_result"
    }
   ],
   "source": [
    "df_clean[df_clean.duplicated()].head()"
   ]
  },
  {
   "cell_type": "code",
   "execution_count": 22,
   "id": "2e934c38",
   "metadata": {},
   "outputs": [
    {
     "data": {
      "text/plain": [
       "5225"
      ]
     },
     "execution_count": 22,
     "metadata": {},
     "output_type": "execute_result"
    }
   ],
   "source": [
    "df_clean.duplicated().sum()\n",
    "\n",
    "# In the whole df_clean there are 5225 duplicates. These will be dropped."
   ]
  },
  {
   "cell_type": "code",
   "execution_count": 23,
   "id": "3287537c",
   "metadata": {},
   "outputs": [
    {
     "name": "stderr",
     "output_type": "stream",
     "text": [
      "C:\\Users\\admin\\anaconda3\\envs\\DA_env\\lib\\site-packages\\pandas\\util\\_decorators.py:311: SettingWithCopyWarning: \n",
      "A value is trying to be set on a copy of a slice from a DataFrame\n",
      "\n",
      "See the caveats in the documentation: https://pandas.pydata.org/pandas-docs/stable/user_guide/indexing.html#returning-a-view-versus-a-copy\n",
      "  return func(*args, **kwargs)\n"
     ]
    }
   ],
   "source": [
    "df_clean.drop_duplicates(inplace=True)"
   ]
  },
  {
   "cell_type": "code",
   "execution_count": 24,
   "id": "f090e1a5",
   "metadata": {},
   "outputs": [
    {
     "data": {
      "text/plain": [
       "0"
      ]
     },
     "execution_count": 24,
     "metadata": {},
     "output_type": "execute_result"
    }
   ],
   "source": [
    "df_clean.duplicated().sum()"
   ]
  },
  {
   "cell_type": "code",
   "execution_count": 25,
   "id": "644878aa",
   "metadata": {},
   "outputs": [
    {
     "data": {
      "text/plain": [
       "(401604, 8)"
      ]
     },
     "execution_count": 25,
     "metadata": {},
     "output_type": "execute_result"
    }
   ],
   "source": [
    "df_clean.shape\n",
    "\n",
    "# After dropping dublicates and null values the data set has about 100.000 less rows. Now it´s 401.604"
   ]
  },
  {
   "cell_type": "markdown",
   "id": "098a441e",
   "metadata": {},
   "source": [
    "##### Negative Values Handling"
   ]
  },
  {
   "cell_type": "code",
   "execution_count": 26,
   "id": "ac25373f",
   "metadata": {},
   "outputs": [
    {
     "data": {
      "text/plain": [
       "8872"
      ]
     },
     "execution_count": 26,
     "metadata": {},
     "output_type": "execute_result"
    }
   ],
   "source": [
    "(df_clean[\"Quantity\"] <= 0).sum()\n",
    "\n",
    "# There are 8872 transactions with a negative quantity of items. These might be cancellations. Eventhough it would be interesting to analyse the cancellations, for now we drop them"
   ]
  },
  {
   "cell_type": "code",
   "execution_count": 27,
   "id": "af3c056e",
   "metadata": {},
   "outputs": [
    {
     "data": {
      "text/plain": [
       "InvoiceNo      8872\n",
       "StockCode      8872\n",
       "Description    8872\n",
       "Quantity       8872\n",
       "InvoiceDate    8872\n",
       "UnitPrice      8872\n",
       "CustomerID     8872\n",
       "Country        8872\n",
       "dtype: int64"
      ]
     },
     "execution_count": 27,
     "metadata": {},
     "output_type": "execute_result"
    }
   ],
   "source": [
    "df_clean.loc[df_clean[\"Quantity\"] < 0].count()"
   ]
  },
  {
   "cell_type": "code",
   "execution_count": 28,
   "id": "a0d73def",
   "metadata": {},
   "outputs": [],
   "source": [
    "df_clean = df_clean[df_clean[\"Quantity\"] > 0]"
   ]
  },
  {
   "cell_type": "code",
   "execution_count": 29,
   "id": "1a089b14",
   "metadata": {},
   "outputs": [
    {
     "data": {
      "text/plain": [
       "(392732, 8)"
      ]
     },
     "execution_count": 29,
     "metadata": {},
     "output_type": "execute_result"
    }
   ],
   "source": [
    "df_clean.shape"
   ]
  },
  {
   "cell_type": "code",
   "execution_count": 30,
   "id": "d5a4953d",
   "metadata": {},
   "outputs": [
    {
     "data": {
      "text/plain": [
       "40"
      ]
     },
     "execution_count": 30,
     "metadata": {},
     "output_type": "execute_result"
    }
   ],
   "source": [
    "(df_clean[\"UnitPrice\"] <= 0).sum()\n",
    "\n",
    "# There are 40 transactions where the price per unit is equal/belove 0. These might be mistakes, or maybe free items? E.g. from marketing actions like \"buy 2, get 3\" or similar. We don´t need them"
   ]
  },
  {
   "cell_type": "code",
   "execution_count": 31,
   "id": "9b373b3e",
   "metadata": {},
   "outputs": [],
   "source": [
    "df_clean = df_clean[df_clean[\"UnitPrice\"] > 0]"
   ]
  },
  {
   "cell_type": "code",
   "execution_count": 32,
   "id": "61c93e2a",
   "metadata": {},
   "outputs": [
    {
     "data": {
      "text/plain": [
       "(392692, 8)"
      ]
     },
     "execution_count": 32,
     "metadata": {},
     "output_type": "execute_result"
    }
   ],
   "source": [
    "df_clean.shape"
   ]
  },
  {
   "cell_type": "code",
   "execution_count": 33,
   "id": "8a2844ac",
   "metadata": {},
   "outputs": [],
   "source": [
    "# Dropping invoices for cancellations(starting with \"C\") might be an additional step, to be sure. \n",
    "# df_clean[df_clean[\"InvoiceNo\"].str.startswith(\"C\")] - how to read them\n",
    "# But with the removing of negative quantity values, the cancellations for sure have all been removed (and with that also other mistaken quantity rows)"
   ]
  },
  {
   "cell_type": "markdown",
   "id": "c0bc06df",
   "metadata": {},
   "source": [
    "##### Data Type Changing"
   ]
  },
  {
   "cell_type": "code",
   "execution_count": 34,
   "id": "619f75d7",
   "metadata": {},
   "outputs": [],
   "source": [
    "df_clean = df_clean.astype({\"CustomerID\":\"int\"})\n",
    "\n",
    "# Change data type of CustomerID from float to integer"
   ]
  },
  {
   "cell_type": "code",
   "execution_count": 35,
   "id": "440c8978",
   "metadata": {},
   "outputs": [
    {
     "data": {
      "text/plain": [
       "dtype('int32')"
      ]
     },
     "execution_count": 35,
     "metadata": {},
     "output_type": "execute_result"
    }
   ],
   "source": [
    "df_clean.CustomerID.dtypes"
   ]
  },
  {
   "cell_type": "code",
   "execution_count": 36,
   "id": "35329e44",
   "metadata": {},
   "outputs": [],
   "source": [
    "df_clean.to_excel('df_retail.xlsx', index=False)"
   ]
  },
  {
   "cell_type": "markdown",
   "id": "8d153a17",
   "metadata": {},
   "source": [
    "#####  Outliers Removing"
   ]
  },
  {
   "cell_type": "code",
   "execution_count": 37,
   "id": "6bdc3822",
   "metadata": {},
   "outputs": [
    {
     "data": {
      "text/html": [
       "<div>\n",
       "<style scoped>\n",
       "    .dataframe tbody tr th:only-of-type {\n",
       "        vertical-align: middle;\n",
       "    }\n",
       "\n",
       "    .dataframe tbody tr th {\n",
       "        vertical-align: top;\n",
       "    }\n",
       "\n",
       "    .dataframe thead th {\n",
       "        text-align: right;\n",
       "    }\n",
       "</style>\n",
       "<table border=\"1\" class=\"dataframe\">\n",
       "  <thead>\n",
       "    <tr style=\"text-align: right;\">\n",
       "      <th></th>\n",
       "      <th>Quantity</th>\n",
       "      <th>UnitPrice</th>\n",
       "      <th>CustomerID</th>\n",
       "    </tr>\n",
       "  </thead>\n",
       "  <tbody>\n",
       "    <tr>\n",
       "      <th>count</th>\n",
       "      <td>392692.000000</td>\n",
       "      <td>392692.000000</td>\n",
       "      <td>392692.000000</td>\n",
       "    </tr>\n",
       "    <tr>\n",
       "      <th>mean</th>\n",
       "      <td>13.119702</td>\n",
       "      <td>3.125914</td>\n",
       "      <td>15287.843865</td>\n",
       "    </tr>\n",
       "    <tr>\n",
       "      <th>std</th>\n",
       "      <td>180.492832</td>\n",
       "      <td>22.241836</td>\n",
       "      <td>1713.539549</td>\n",
       "    </tr>\n",
       "    <tr>\n",
       "      <th>min</th>\n",
       "      <td>1.000000</td>\n",
       "      <td>0.001000</td>\n",
       "      <td>12346.000000</td>\n",
       "    </tr>\n",
       "    <tr>\n",
       "      <th>25%</th>\n",
       "      <td>2.000000</td>\n",
       "      <td>1.250000</td>\n",
       "      <td>13955.000000</td>\n",
       "    </tr>\n",
       "    <tr>\n",
       "      <th>50%</th>\n",
       "      <td>6.000000</td>\n",
       "      <td>1.950000</td>\n",
       "      <td>15150.000000</td>\n",
       "    </tr>\n",
       "    <tr>\n",
       "      <th>75%</th>\n",
       "      <td>12.000000</td>\n",
       "      <td>3.750000</td>\n",
       "      <td>16791.000000</td>\n",
       "    </tr>\n",
       "    <tr>\n",
       "      <th>max</th>\n",
       "      <td>80995.000000</td>\n",
       "      <td>8142.750000</td>\n",
       "      <td>18287.000000</td>\n",
       "    </tr>\n",
       "  </tbody>\n",
       "</table>\n",
       "</div>"
      ],
      "text/plain": [
       "            Quantity      UnitPrice     CustomerID\n",
       "count  392692.000000  392692.000000  392692.000000\n",
       "mean       13.119702       3.125914   15287.843865\n",
       "std       180.492832      22.241836    1713.539549\n",
       "min         1.000000       0.001000   12346.000000\n",
       "25%         2.000000       1.250000   13955.000000\n",
       "50%         6.000000       1.950000   15150.000000\n",
       "75%        12.000000       3.750000   16791.000000\n",
       "max     80995.000000    8142.750000   18287.000000"
      ]
     },
     "execution_count": 37,
     "metadata": {},
     "output_type": "execute_result"
    }
   ],
   "source": [
    "df_clean.describe()\n",
    "\n",
    "# Negative values in unit price and quantity have been removed, but also the positive outliers need to be removed in order for the following modelling"
   ]
  },
  {
   "cell_type": "code",
   "execution_count": 38,
   "id": "77d69e21",
   "metadata": {},
   "outputs": [
    {
     "data": {
      "text/html": [
       "<div>\n",
       "<style scoped>\n",
       "    .dataframe tbody tr th:only-of-type {\n",
       "        vertical-align: middle;\n",
       "    }\n",
       "\n",
       "    .dataframe tbody tr th {\n",
       "        vertical-align: top;\n",
       "    }\n",
       "\n",
       "    .dataframe thead th {\n",
       "        text-align: right;\n",
       "    }\n",
       "</style>\n",
       "<table border=\"1\" class=\"dataframe\">\n",
       "  <thead>\n",
       "    <tr style=\"text-align: right;\">\n",
       "      <th></th>\n",
       "      <th>Quantity</th>\n",
       "      <th>UnitPrice</th>\n",
       "      <th>CustomerID</th>\n",
       "    </tr>\n",
       "  </thead>\n",
       "  <tbody>\n",
       "    <tr>\n",
       "      <th>0.050</th>\n",
       "      <td>1.0</td>\n",
       "      <td>0.42</td>\n",
       "      <td>12626.0</td>\n",
       "    </tr>\n",
       "    <tr>\n",
       "      <th>0.950</th>\n",
       "      <td>36.0</td>\n",
       "      <td>8.50</td>\n",
       "      <td>17905.0</td>\n",
       "    </tr>\n",
       "    <tr>\n",
       "      <th>0.980</th>\n",
       "      <td>96.0</td>\n",
       "      <td>12.75</td>\n",
       "      <td>18119.0</td>\n",
       "    </tr>\n",
       "    <tr>\n",
       "      <th>0.990</th>\n",
       "      <td>120.0</td>\n",
       "      <td>14.95</td>\n",
       "      <td>18211.0</td>\n",
       "    </tr>\n",
       "    <tr>\n",
       "      <th>0.999</th>\n",
       "      <td>504.0</td>\n",
       "      <td>49.95</td>\n",
       "      <td>18283.0</td>\n",
       "    </tr>\n",
       "  </tbody>\n",
       "</table>\n",
       "</div>"
      ],
      "text/plain": [
       "       Quantity  UnitPrice  CustomerID\n",
       "0.050       1.0       0.42     12626.0\n",
       "0.950      36.0       8.50     17905.0\n",
       "0.980      96.0      12.75     18119.0\n",
       "0.990     120.0      14.95     18211.0\n",
       "0.999     504.0      49.95     18283.0"
      ]
     },
     "execution_count": 38,
     "metadata": {},
     "output_type": "execute_result"
    }
   ],
   "source": [
    "df_clean.quantile([0.05, 0.95, 0.98, 0.99, 0.999])"
   ]
  },
  {
   "cell_type": "code",
   "execution_count": 39,
   "id": "22f742b5",
   "metadata": {},
   "outputs": [
    {
     "data": {
      "text/plain": [
       "Text(0.5, 1.0, 'Quantity and Price Outliers')"
      ]
     },
     "execution_count": 39,
     "metadata": {},
     "output_type": "execute_result"
    },
    {
     "data": {
      "image/png": "[encoded data removed]",
      "text/plain": [
       "<Figure size 1296x432 with 1 Axes>"
      ]
     },
     "metadata": {
      "needs_background": "light"
     },
     "output_type": "display_data"
    }
   ],
   "source": [
    "plt.figure(figsize = (18,6))\n",
    "plt.scatter(data = df_clean, x = \"Quantity\", y = \"UnitPrice\")\n",
    "plt.xticks(rotation = 90)\n",
    "plt.xlabel(\"No of items\")\n",
    "plt.ylabel(\"price of item\")\n",
    "plt.title(\"Quantity and Price Outliers\")"
   ]
  },
  {
   "cell_type": "code",
   "execution_count": 40,
   "id": "dae8aae6",
   "metadata": {},
   "outputs": [
    {
     "data": {
      "text/plain": [
       "Text(0.5, 1.0, 'Quantity and Price Outliers')"
      ]
     },
     "execution_count": 40,
     "metadata": {},
     "output_type": "execute_result"
    },
    {
     "data": {
      "image/png": "[encoded data removed]",
      "text/plain": [
       "<Figure size 1296x432 with 1 Axes>"
      ]
     },
     "metadata": {
      "needs_background": "light"
     },
     "output_type": "display_data"
    }
   ],
   "source": [
    "df_clean = df_clean[df_clean[\"Quantity\"] < 1000]\n",
    "plt.figure(figsize = (18,6))\n",
    "plt.scatter(x = df_clean.index, y = df_clean[\"UnitPrice\"])\n",
    "plt.xticks(rotation = 90)\n",
    "plt.xlabel(\"No of items\")\n",
    "plt.ylabel(\"price of item\")\n",
    "plt.title(\"Quantity and Price Outliers\")\n",
    "\n",
    "# Drop quantity outliers above 1000"
   ]
  },
  {
   "cell_type": "code",
   "execution_count": 41,
   "id": "e705a5a4",
   "metadata": {},
   "outputs": [
    {
     "data": {
      "text/plain": [
       "Text(0.5, 1.0, 'Quantity and Price Outliers')"
      ]
     },
     "execution_count": 41,
     "metadata": {},
     "output_type": "execute_result"
    },
    {
     "data": {
      "image/png": "[encoded data removed]",
      "text/plain": [
       "<Figure size 1296x432 with 1 Axes>"
      ]
     },
     "metadata": {
      "needs_background": "light"
     },
     "output_type": "display_data"
    }
   ],
   "source": [
    "df_clean = df_clean[df_clean['UnitPrice'] < 300]\n",
    "plt.figure(figsize=(18,6))\n",
    "plt.scatter(x=df_clean.index, y=df_clean['Quantity'])\n",
    "plt.xticks(rotation=90)\n",
    "plt.xlabel(\"No of items\")\n",
    "plt.ylabel(\"price of item\")\n",
    "plt.title(\"Quantity and Price Outliers\")\n",
    "\n",
    "# Drop unit price outliers above 2000"
   ]
  },
  {
   "cell_type": "code",
   "execution_count": 42,
   "id": "770d4057",
   "metadata": {},
   "outputs": [
    {
     "data": {
      "text/plain": [
       "Text(0.5, 1.0, 'Quantity and Price Outliers')"
      ]
     },
     "execution_count": 42,
     "metadata": {},
     "output_type": "execute_result"
    },
    {
     "data": {
      "image/png": "[encoded data removed]",
      "text/plain": [
       "<Figure size 1296x432 with 1 Axes>"
      ]
     },
     "metadata": {
      "needs_background": "light"
     },
     "output_type": "display_data"
    }
   ],
   "source": [
    "df_clean = df_clean[df_clean['UnitPrice'] < 300]\n",
    "plt.figure(figsize=(18,6))\n",
    "plt.scatter(y=df_clean.index, x=df_clean['Quantity'])\n",
    "plt.xticks(rotation=90)\n",
    "plt.ylabel(\"No of items\")\n",
    "plt.xlabel(\"price of item\")\n",
    "plt.title(\"Quantity and Price Outliers\")\n",
    "\n",
    "# Drop unit price outliers above 300"
   ]
  },
  {
   "cell_type": "code",
   "execution_count": 43,
   "id": "7da566ae",
   "metadata": {},
   "outputs": [
    {
     "data": {
      "text/html": [
       "<div>\n",
       "<style scoped>\n",
       "    .dataframe tbody tr th:only-of-type {\n",
       "        vertical-align: middle;\n",
       "    }\n",
       "\n",
       "    .dataframe tbody tr th {\n",
       "        vertical-align: top;\n",
       "    }\n",
       "\n",
       "    .dataframe thead th {\n",
       "        text-align: right;\n",
       "    }\n",
       "</style>\n",
       "<table border=\"1\" class=\"dataframe\">\n",
       "  <thead>\n",
       "    <tr style=\"text-align: right;\">\n",
       "      <th></th>\n",
       "      <th>Quantity</th>\n",
       "      <th>UnitPrice</th>\n",
       "      <th>CustomerID</th>\n",
       "    </tr>\n",
       "  </thead>\n",
       "  <tbody>\n",
       "    <tr>\n",
       "      <th>count</th>\n",
       "      <td>392524.000000</td>\n",
       "      <td>392524.000000</td>\n",
       "      <td>392524.000000</td>\n",
       "    </tr>\n",
       "    <tr>\n",
       "      <th>mean</th>\n",
       "      <td>12.272564</td>\n",
       "      <td>2.950675</td>\n",
       "      <td>15287.907705</td>\n",
       "    </tr>\n",
       "    <tr>\n",
       "      <th>std</th>\n",
       "      <td>31.576436</td>\n",
       "      <td>4.531552</td>\n",
       "      <td>1713.466986</td>\n",
       "    </tr>\n",
       "    <tr>\n",
       "      <th>min</th>\n",
       "      <td>1.000000</td>\n",
       "      <td>0.001000</td>\n",
       "      <td>12347.000000</td>\n",
       "    </tr>\n",
       "    <tr>\n",
       "      <th>25%</th>\n",
       "      <td>2.000000</td>\n",
       "      <td>1.250000</td>\n",
       "      <td>13955.000000</td>\n",
       "    </tr>\n",
       "    <tr>\n",
       "      <th>50%</th>\n",
       "      <td>6.000000</td>\n",
       "      <td>1.950000</td>\n",
       "      <td>15150.000000</td>\n",
       "    </tr>\n",
       "    <tr>\n",
       "      <th>75%</th>\n",
       "      <td>12.000000</td>\n",
       "      <td>3.750000</td>\n",
       "      <td>16791.000000</td>\n",
       "    </tr>\n",
       "    <tr>\n",
       "      <th>max</th>\n",
       "      <td>992.000000</td>\n",
       "      <td>295.000000</td>\n",
       "      <td>18287.000000</td>\n",
       "    </tr>\n",
       "  </tbody>\n",
       "</table>\n",
       "</div>"
      ],
      "text/plain": [
       "            Quantity      UnitPrice     CustomerID\n",
       "count  392524.000000  392524.000000  392524.000000\n",
       "mean       12.272564       2.950675   15287.907705\n",
       "std        31.576436       4.531552    1713.466986\n",
       "min         1.000000       0.001000   12347.000000\n",
       "25%         2.000000       1.250000   13955.000000\n",
       "50%         6.000000       1.950000   15150.000000\n",
       "75%        12.000000       3.750000   16791.000000\n",
       "max       992.000000     295.000000   18287.000000"
      ]
     },
     "execution_count": 43,
     "metadata": {},
     "output_type": "execute_result"
    }
   ],
   "source": [
    "df_clean.describe()\n",
    "\n",
    "# This was a conservative dropping of outliers. Check if keep unit price only until 500 instead"
   ]
  },
  {
   "cell_type": "code",
   "execution_count": 44,
   "id": "bfae4440",
   "metadata": {},
   "outputs": [
    {
     "data": {
      "text/html": [
       "<div>\n",
       "<style scoped>\n",
       "    .dataframe tbody tr th:only-of-type {\n",
       "        vertical-align: middle;\n",
       "    }\n",
       "\n",
       "    .dataframe tbody tr th {\n",
       "        vertical-align: top;\n",
       "    }\n",
       "\n",
       "    .dataframe thead th {\n",
       "        text-align: right;\n",
       "    }\n",
       "</style>\n",
       "<table border=\"1\" class=\"dataframe\">\n",
       "  <thead>\n",
       "    <tr style=\"text-align: right;\">\n",
       "      <th></th>\n",
       "      <th>Quantity</th>\n",
       "      <th>UnitPrice</th>\n",
       "      <th>CustomerID</th>\n",
       "    </tr>\n",
       "  </thead>\n",
       "  <tbody>\n",
       "    <tr>\n",
       "      <th>0.050</th>\n",
       "      <td>1.0</td>\n",
       "      <td>0.42</td>\n",
       "      <td>12626.0</td>\n",
       "    </tr>\n",
       "    <tr>\n",
       "      <th>0.950</th>\n",
       "      <td>36.0</td>\n",
       "      <td>8.50</td>\n",
       "      <td>17905.0</td>\n",
       "    </tr>\n",
       "    <tr>\n",
       "      <th>0.980</th>\n",
       "      <td>96.0</td>\n",
       "      <td>12.75</td>\n",
       "      <td>18119.0</td>\n",
       "    </tr>\n",
       "    <tr>\n",
       "      <th>0.990</th>\n",
       "      <td>120.0</td>\n",
       "      <td>14.95</td>\n",
       "      <td>18211.0</td>\n",
       "    </tr>\n",
       "    <tr>\n",
       "      <th>0.999</th>\n",
       "      <td>480.0</td>\n",
       "      <td>40.00</td>\n",
       "      <td>18283.0</td>\n",
       "    </tr>\n",
       "  </tbody>\n",
       "</table>\n",
       "</div>"
      ],
      "text/plain": [
       "       Quantity  UnitPrice  CustomerID\n",
       "0.050       1.0       0.42     12626.0\n",
       "0.950      36.0       8.50     17905.0\n",
       "0.980      96.0      12.75     18119.0\n",
       "0.990     120.0      14.95     18211.0\n",
       "0.999     480.0      40.00     18283.0"
      ]
     },
     "execution_count": 44,
     "metadata": {},
     "output_type": "execute_result"
    }
   ],
   "source": [
    "df_clean.quantile([0.05, 0.95, 0.98, 0.99, 0.999])"
   ]
  },
  {
   "cell_type": "markdown",
   "id": "9854eb8f",
   "metadata": {},
   "source": [
    "### Feature Engineering"
   ]
  },
  {
   "cell_type": "code",
   "execution_count": 45,
   "id": "d45264cb",
   "metadata": {},
   "outputs": [],
   "source": [
    "# The data set contains information for the amount of items per purchase(invoice) and the price per unit. \n",
    "# Add a column with the whole value of a purchase \"TotalAmount\""
   ]
  },
  {
   "cell_type": "code",
   "execution_count": 46,
   "id": "750acc06",
   "metadata": {},
   "outputs": [],
   "source": [
    "df_clean[\"TotalAmount\"] = df_clean[\"Quantity\"] * df_clean[\"UnitPrice\"]"
   ]
  },
  {
   "cell_type": "code",
   "execution_count": 47,
   "id": "66021f12",
   "metadata": {},
   "outputs": [
    {
     "data": {
      "text/html": [
       "<div>\n",
       "<style scoped>\n",
       "    .dataframe tbody tr th:only-of-type {\n",
       "        vertical-align: middle;\n",
       "    }\n",
       "\n",
       "    .dataframe tbody tr th {\n",
       "        vertical-align: top;\n",
       "    }\n",
       "\n",
       "    .dataframe thead th {\n",
       "        text-align: right;\n",
       "    }\n",
       "</style>\n",
       "<table border=\"1\" class=\"dataframe\">\n",
       "  <thead>\n",
       "    <tr style=\"text-align: right;\">\n",
       "      <th></th>\n",
       "      <th>InvoiceNo</th>\n",
       "      <th>InvoiceDate</th>\n",
       "      <th>StockCode</th>\n",
       "      <th>Description</th>\n",
       "      <th>Quantity</th>\n",
       "      <th>UnitPrice</th>\n",
       "      <th>TotalAmount</th>\n",
       "      <th>CustomerID</th>\n",
       "      <th>Country</th>\n",
       "    </tr>\n",
       "  </thead>\n",
       "  <tbody>\n",
       "    <tr>\n",
       "      <th>0</th>\n",
       "      <td>536365</td>\n",
       "      <td>2010-12-01 08:26:00</td>\n",
       "      <td>85123A</td>\n",
       "      <td>WHITE HANGING HEART T-LIGHT HOLDER</td>\n",
       "      <td>6</td>\n",
       "      <td>2.55</td>\n",
       "      <td>15.30</td>\n",
       "      <td>17850</td>\n",
       "      <td>United Kingdom</td>\n",
       "    </tr>\n",
       "    <tr>\n",
       "      <th>1</th>\n",
       "      <td>536365</td>\n",
       "      <td>2010-12-01 08:26:00</td>\n",
       "      <td>71053</td>\n",
       "      <td>WHITE METAL LANTERN</td>\n",
       "      <td>6</td>\n",
       "      <td>3.39</td>\n",
       "      <td>20.34</td>\n",
       "      <td>17850</td>\n",
       "      <td>United Kingdom</td>\n",
       "    </tr>\n",
       "    <tr>\n",
       "      <th>2</th>\n",
       "      <td>536365</td>\n",
       "      <td>2010-12-01 08:26:00</td>\n",
       "      <td>84406B</td>\n",
       "      <td>CREAM CUPID HEARTS COAT HANGER</td>\n",
       "      <td>8</td>\n",
       "      <td>2.75</td>\n",
       "      <td>22.00</td>\n",
       "      <td>17850</td>\n",
       "      <td>United Kingdom</td>\n",
       "    </tr>\n",
       "    <tr>\n",
       "      <th>3</th>\n",
       "      <td>536365</td>\n",
       "      <td>2010-12-01 08:26:00</td>\n",
       "      <td>84029G</td>\n",
       "      <td>KNITTED UNION FLAG HOT WATER BOTTLE</td>\n",
       "      <td>6</td>\n",
       "      <td>3.39</td>\n",
       "      <td>20.34</td>\n",
       "      <td>17850</td>\n",
       "      <td>United Kingdom</td>\n",
       "    </tr>\n",
       "    <tr>\n",
       "      <th>4</th>\n",
       "      <td>536365</td>\n",
       "      <td>2010-12-01 08:26:00</td>\n",
       "      <td>84029E</td>\n",
       "      <td>RED WOOLLY HOTTIE WHITE HEART.</td>\n",
       "      <td>6</td>\n",
       "      <td>3.39</td>\n",
       "      <td>20.34</td>\n",
       "      <td>17850</td>\n",
       "      <td>United Kingdom</td>\n",
       "    </tr>\n",
       "  </tbody>\n",
       "</table>\n",
       "</div>"
      ],
      "text/plain": [
       "  InvoiceNo         InvoiceDate StockCode  \\\n",
       "0    536365 2010-12-01 08:26:00    85123A   \n",
       "1    536365 2010-12-01 08:26:00     71053   \n",
       "2    536365 2010-12-01 08:26:00    84406B   \n",
       "3    536365 2010-12-01 08:26:00    84029G   \n",
       "4    536365 2010-12-01 08:26:00    84029E   \n",
       "\n",
       "                           Description  Quantity  UnitPrice  TotalAmount  \\\n",
       "0   WHITE HANGING HEART T-LIGHT HOLDER         6       2.55        15.30   \n",
       "1                  WHITE METAL LANTERN         6       3.39        20.34   \n",
       "2       CREAM CUPID HEARTS COAT HANGER         8       2.75        22.00   \n",
       "3  KNITTED UNION FLAG HOT WATER BOTTLE         6       3.39        20.34   \n",
       "4       RED WOOLLY HOTTIE WHITE HEART.         6       3.39        20.34   \n",
       "\n",
       "   CustomerID         Country  \n",
       "0       17850  United Kingdom  \n",
       "1       17850  United Kingdom  \n",
       "2       17850  United Kingdom  \n",
       "3       17850  United Kingdom  \n",
       "4       17850  United Kingdom  "
      ]
     },
     "execution_count": 47,
     "metadata": {},
     "output_type": "execute_result"
    }
   ],
   "source": [
    "df_clean = df_clean[[\"InvoiceNo\", \"InvoiceDate\", \"StockCode\", \"Description\", \"Quantity\", \"UnitPrice\", \"TotalAmount\", \"CustomerID\", \"Country\"]]\n",
    "df_clean.head()"
   ]
  },
  {
   "cell_type": "code",
   "execution_count": 48,
   "id": "682851af",
   "metadata": {},
   "outputs": [
    {
     "data": {
      "text/plain": [
       "dtype('float64')"
      ]
     },
     "execution_count": 48,
     "metadata": {},
     "output_type": "execute_result"
    }
   ],
   "source": [
    "df_clean.TotalAmount.dtype"
   ]
  },
  {
   "cell_type": "markdown",
   "id": "e300ae24",
   "metadata": {},
   "source": [
    "##### Customers and the number of their orders"
   ]
  },
  {
   "cell_type": "code",
   "execution_count": 49,
   "id": "7420cfc2",
   "metadata": {},
   "outputs": [
    {
     "data": {
      "text/html": [
       "<div>\n",
       "<style scoped>\n",
       "    .dataframe tbody tr th:only-of-type {\n",
       "        vertical-align: middle;\n",
       "    }\n",
       "\n",
       "    .dataframe tbody tr th {\n",
       "        vertical-align: top;\n",
       "    }\n",
       "\n",
       "    .dataframe thead th {\n",
       "        text-align: right;\n",
       "    }\n",
       "</style>\n",
       "<table border=\"1\" class=\"dataframe\">\n",
       "  <thead>\n",
       "    <tr style=\"text-align: right;\">\n",
       "      <th></th>\n",
       "      <th>CustomerID</th>\n",
       "      <th>Frequency</th>\n",
       "    </tr>\n",
       "  </thead>\n",
       "  <tbody>\n",
       "    <tr>\n",
       "      <th>0</th>\n",
       "      <td>12347</td>\n",
       "      <td>182</td>\n",
       "    </tr>\n",
       "    <tr>\n",
       "      <th>1</th>\n",
       "      <td>12348</td>\n",
       "      <td>31</td>\n",
       "    </tr>\n",
       "    <tr>\n",
       "      <th>2</th>\n",
       "      <td>12349</td>\n",
       "      <td>72</td>\n",
       "    </tr>\n",
       "    <tr>\n",
       "      <th>3</th>\n",
       "      <td>12350</td>\n",
       "      <td>17</td>\n",
       "    </tr>\n",
       "    <tr>\n",
       "      <th>4</th>\n",
       "      <td>12352</td>\n",
       "      <td>84</td>\n",
       "    </tr>\n",
       "    <tr>\n",
       "      <th>...</th>\n",
       "      <td>...</td>\n",
       "      <td>...</td>\n",
       "    </tr>\n",
       "    <tr>\n",
       "      <th>4322</th>\n",
       "      <td>18280</td>\n",
       "      <td>10</td>\n",
       "    </tr>\n",
       "    <tr>\n",
       "      <th>4323</th>\n",
       "      <td>18281</td>\n",
       "      <td>7</td>\n",
       "    </tr>\n",
       "    <tr>\n",
       "      <th>4324</th>\n",
       "      <td>18282</td>\n",
       "      <td>12</td>\n",
       "    </tr>\n",
       "    <tr>\n",
       "      <th>4325</th>\n",
       "      <td>18283</td>\n",
       "      <td>721</td>\n",
       "    </tr>\n",
       "    <tr>\n",
       "      <th>4326</th>\n",
       "      <td>18287</td>\n",
       "      <td>70</td>\n",
       "    </tr>\n",
       "  </tbody>\n",
       "</table>\n",
       "<p>4327 rows × 2 columns</p>\n",
       "</div>"
      ],
      "text/plain": [
       "      CustomerID  Frequency\n",
       "0          12347        182\n",
       "1          12348         31\n",
       "2          12349         72\n",
       "3          12350         17\n",
       "4          12352         84\n",
       "...          ...        ...\n",
       "4322       18280         10\n",
       "4323       18281          7\n",
       "4324       18282         12\n",
       "4325       18283        721\n",
       "4326       18287         70\n",
       "\n",
       "[4327 rows x 2 columns]"
      ]
     },
     "execution_count": 49,
     "metadata": {},
     "output_type": "execute_result"
    }
   ],
   "source": [
    "df_frequency =  df_clean[[\"CustomerID\", \"InvoiceNo\"]].groupby(\"CustomerID\", as_index = False).count()\n",
    "df_frequency.rename(columns = {\"InvoiceNo\": \"Frequency\"}, inplace = True)\n",
    "df_frequency\n",
    "\n",
    "# Group the features by the customer, create new frame for that.\n",
    "# Count the frequency of invoice numbers, which means the frequency of orders per customer "
   ]
  },
  {
   "cell_type": "markdown",
   "id": "10d0fd9a",
   "metadata": {},
   "source": [
    "##### Customers and the customer lifetime value"
   ]
  },
  {
   "cell_type": "code",
   "execution_count": 50,
   "id": "59c2ccdd",
   "metadata": {},
   "outputs": [
    {
     "data": {
      "text/html": [
       "<div>\n",
       "<style scoped>\n",
       "    .dataframe tbody tr th:only-of-type {\n",
       "        vertical-align: middle;\n",
       "    }\n",
       "\n",
       "    .dataframe tbody tr th {\n",
       "        vertical-align: top;\n",
       "    }\n",
       "\n",
       "    .dataframe thead th {\n",
       "        text-align: right;\n",
       "    }\n",
       "</style>\n",
       "<table border=\"1\" class=\"dataframe\">\n",
       "  <thead>\n",
       "    <tr style=\"text-align: right;\">\n",
       "      <th></th>\n",
       "      <th>CustomerID</th>\n",
       "      <th>Monetary</th>\n",
       "    </tr>\n",
       "  </thead>\n",
       "  <tbody>\n",
       "    <tr>\n",
       "      <th>0</th>\n",
       "      <td>12347</td>\n",
       "      <td>4310.00</td>\n",
       "    </tr>\n",
       "    <tr>\n",
       "      <th>1</th>\n",
       "      <td>12348</td>\n",
       "      <td>1797.24</td>\n",
       "    </tr>\n",
       "    <tr>\n",
       "      <th>2</th>\n",
       "      <td>12349</td>\n",
       "      <td>1457.55</td>\n",
       "    </tr>\n",
       "    <tr>\n",
       "      <th>3</th>\n",
       "      <td>12350</td>\n",
       "      <td>334.40</td>\n",
       "    </tr>\n",
       "    <tr>\n",
       "      <th>4</th>\n",
       "      <td>12352</td>\n",
       "      <td>2129.54</td>\n",
       "    </tr>\n",
       "    <tr>\n",
       "      <th>...</th>\n",
       "      <td>...</td>\n",
       "      <td>...</td>\n",
       "    </tr>\n",
       "    <tr>\n",
       "      <th>4322</th>\n",
       "      <td>18280</td>\n",
       "      <td>180.60</td>\n",
       "    </tr>\n",
       "    <tr>\n",
       "      <th>4323</th>\n",
       "      <td>18281</td>\n",
       "      <td>80.82</td>\n",
       "    </tr>\n",
       "    <tr>\n",
       "      <th>4324</th>\n",
       "      <td>18282</td>\n",
       "      <td>178.05</td>\n",
       "    </tr>\n",
       "    <tr>\n",
       "      <th>4325</th>\n",
       "      <td>18283</td>\n",
       "      <td>2045.53</td>\n",
       "    </tr>\n",
       "    <tr>\n",
       "      <th>4326</th>\n",
       "      <td>18287</td>\n",
       "      <td>1837.28</td>\n",
       "    </tr>\n",
       "  </tbody>\n",
       "</table>\n",
       "<p>4327 rows × 2 columns</p>\n",
       "</div>"
      ],
      "text/plain": [
       "      CustomerID  Monetary\n",
       "0          12347   4310.00\n",
       "1          12348   1797.24\n",
       "2          12349   1457.55\n",
       "3          12350    334.40\n",
       "4          12352   2129.54\n",
       "...          ...       ...\n",
       "4322       18280    180.60\n",
       "4323       18281     80.82\n",
       "4324       18282    178.05\n",
       "4325       18283   2045.53\n",
       "4326       18287   1837.28\n",
       "\n",
       "[4327 rows x 2 columns]"
      ]
     },
     "execution_count": 50,
     "metadata": {},
     "output_type": "execute_result"
    }
   ],
   "source": [
    "df_monetary = df_clean[[\"CustomerID\", \"TotalAmount\"]].groupby(\"CustomerID\", as_index = False).sum()\n",
    "df_monetary.rename(columns = {\"TotalAmount\" : \"Monetary\"}, inplace = True)\n",
    "df_monetary\n",
    "\n",
    "# Group total amount of sales per customer "
   ]
  },
  {
   "cell_type": "code",
   "execution_count": 51,
   "id": "b887f43e",
   "metadata": {},
   "outputs": [
    {
     "data": {
      "text/html": [
       "<div>\n",
       "<style scoped>\n",
       "    .dataframe tbody tr th:only-of-type {\n",
       "        vertical-align: middle;\n",
       "    }\n",
       "\n",
       "    .dataframe tbody tr th {\n",
       "        vertical-align: top;\n",
       "    }\n",
       "\n",
       "    .dataframe thead th {\n",
       "        text-align: right;\n",
       "    }\n",
       "</style>\n",
       "<table border=\"1\" class=\"dataframe\">\n",
       "  <thead>\n",
       "    <tr style=\"text-align: right;\">\n",
       "      <th></th>\n",
       "      <th>CustomerID</th>\n",
       "      <th>Monetary</th>\n",
       "      <th>Frequency</th>\n",
       "    </tr>\n",
       "  </thead>\n",
       "  <tbody>\n",
       "    <tr>\n",
       "      <th>0</th>\n",
       "      <td>12347</td>\n",
       "      <td>4310.00</td>\n",
       "      <td>182</td>\n",
       "    </tr>\n",
       "    <tr>\n",
       "      <th>1</th>\n",
       "      <td>12348</td>\n",
       "      <td>1797.24</td>\n",
       "      <td>31</td>\n",
       "    </tr>\n",
       "    <tr>\n",
       "      <th>2</th>\n",
       "      <td>12349</td>\n",
       "      <td>1457.55</td>\n",
       "      <td>72</td>\n",
       "    </tr>\n",
       "    <tr>\n",
       "      <th>3</th>\n",
       "      <td>12350</td>\n",
       "      <td>334.40</td>\n",
       "      <td>17</td>\n",
       "    </tr>\n",
       "    <tr>\n",
       "      <th>4</th>\n",
       "      <td>12352</td>\n",
       "      <td>2129.54</td>\n",
       "      <td>84</td>\n",
       "    </tr>\n",
       "    <tr>\n",
       "      <th>...</th>\n",
       "      <td>...</td>\n",
       "      <td>...</td>\n",
       "      <td>...</td>\n",
       "    </tr>\n",
       "    <tr>\n",
       "      <th>4322</th>\n",
       "      <td>18280</td>\n",
       "      <td>180.60</td>\n",
       "      <td>10</td>\n",
       "    </tr>\n",
       "    <tr>\n",
       "      <th>4323</th>\n",
       "      <td>18281</td>\n",
       "      <td>80.82</td>\n",
       "      <td>7</td>\n",
       "    </tr>\n",
       "    <tr>\n",
       "      <th>4324</th>\n",
       "      <td>18282</td>\n",
       "      <td>178.05</td>\n",
       "      <td>12</td>\n",
       "    </tr>\n",
       "    <tr>\n",
       "      <th>4325</th>\n",
       "      <td>18283</td>\n",
       "      <td>2045.53</td>\n",
       "      <td>721</td>\n",
       "    </tr>\n",
       "    <tr>\n",
       "      <th>4326</th>\n",
       "      <td>18287</td>\n",
       "      <td>1837.28</td>\n",
       "      <td>70</td>\n",
       "    </tr>\n",
       "  </tbody>\n",
       "</table>\n",
       "<p>4327 rows × 3 columns</p>\n",
       "</div>"
      ],
      "text/plain": [
       "      CustomerID  Monetary  Frequency\n",
       "0          12347   4310.00        182\n",
       "1          12348   1797.24         31\n",
       "2          12349   1457.55         72\n",
       "3          12350    334.40         17\n",
       "4          12352   2129.54         84\n",
       "...          ...       ...        ...\n",
       "4322       18280    180.60         10\n",
       "4323       18281     80.82          7\n",
       "4324       18282    178.05         12\n",
       "4325       18283   2045.53        721\n",
       "4326       18287   1837.28         70\n",
       "\n",
       "[4327 rows x 3 columns]"
      ]
     },
     "execution_count": 51,
     "metadata": {},
     "output_type": "execute_result"
    }
   ],
   "source": [
    "df_merge = df_monetary.merge(df_frequency, on = \"CustomerID\", how = \"inner\")\n",
    "df_merge"
   ]
  },
  {
   "cell_type": "markdown",
   "id": "87ad8eb0",
   "metadata": {},
   "source": [
    "##### Customer and the last purchase"
   ]
  },
  {
   "cell_type": "code",
   "execution_count": 52,
   "id": "8d0becb1",
   "metadata": {},
   "outputs": [
    {
     "data": {
      "text/html": [
       "<div>\n",
       "<style scoped>\n",
       "    .dataframe tbody tr th:only-of-type {\n",
       "        vertical-align: middle;\n",
       "    }\n",
       "\n",
       "    .dataframe tbody tr th {\n",
       "        vertical-align: top;\n",
       "    }\n",
       "\n",
       "    .dataframe thead th {\n",
       "        text-align: right;\n",
       "    }\n",
       "</style>\n",
       "<table border=\"1\" class=\"dataframe\">\n",
       "  <thead>\n",
       "    <tr style=\"text-align: right;\">\n",
       "      <th></th>\n",
       "      <th>CustomerID</th>\n",
       "      <th>LastPurchaseDate</th>\n",
       "    </tr>\n",
       "  </thead>\n",
       "  <tbody>\n",
       "    <tr>\n",
       "      <th>0</th>\n",
       "      <td>12347</td>\n",
       "      <td>2011-12-07 15:52:00</td>\n",
       "    </tr>\n",
       "    <tr>\n",
       "      <th>1</th>\n",
       "      <td>12348</td>\n",
       "      <td>2011-09-25 13:13:00</td>\n",
       "    </tr>\n",
       "    <tr>\n",
       "      <th>2</th>\n",
       "      <td>12349</td>\n",
       "      <td>2011-11-21 09:51:00</td>\n",
       "    </tr>\n",
       "    <tr>\n",
       "      <th>3</th>\n",
       "      <td>12350</td>\n",
       "      <td>2011-02-02 16:01:00</td>\n",
       "    </tr>\n",
       "    <tr>\n",
       "      <th>4</th>\n",
       "      <td>12352</td>\n",
       "      <td>2011-11-03 14:37:00</td>\n",
       "    </tr>\n",
       "    <tr>\n",
       "      <th>...</th>\n",
       "      <td>...</td>\n",
       "      <td>...</td>\n",
       "    </tr>\n",
       "    <tr>\n",
       "      <th>4322</th>\n",
       "      <td>18280</td>\n",
       "      <td>2011-03-07 09:52:00</td>\n",
       "    </tr>\n",
       "    <tr>\n",
       "      <th>4323</th>\n",
       "      <td>18281</td>\n",
       "      <td>2011-06-12 10:53:00</td>\n",
       "    </tr>\n",
       "    <tr>\n",
       "      <th>4324</th>\n",
       "      <td>18282</td>\n",
       "      <td>2011-12-02 11:43:00</td>\n",
       "    </tr>\n",
       "    <tr>\n",
       "      <th>4325</th>\n",
       "      <td>18283</td>\n",
       "      <td>2011-12-06 12:02:00</td>\n",
       "    </tr>\n",
       "    <tr>\n",
       "      <th>4326</th>\n",
       "      <td>18287</td>\n",
       "      <td>2011-10-28 09:29:00</td>\n",
       "    </tr>\n",
       "  </tbody>\n",
       "</table>\n",
       "<p>4327 rows × 2 columns</p>\n",
       "</div>"
      ],
      "text/plain": [
       "      CustomerID    LastPurchaseDate\n",
       "0          12347 2011-12-07 15:52:00\n",
       "1          12348 2011-09-25 13:13:00\n",
       "2          12349 2011-11-21 09:51:00\n",
       "3          12350 2011-02-02 16:01:00\n",
       "4          12352 2011-11-03 14:37:00\n",
       "...          ...                 ...\n",
       "4322       18280 2011-03-07 09:52:00\n",
       "4323       18281 2011-06-12 10:53:00\n",
       "4324       18282 2011-12-02 11:43:00\n",
       "4325       18283 2011-12-06 12:02:00\n",
       "4326       18287 2011-10-28 09:29:00\n",
       "\n",
       "[4327 rows x 2 columns]"
      ]
     },
     "execution_count": 52,
     "metadata": {},
     "output_type": "execute_result"
    }
   ],
   "source": [
    "df_recency = df_clean[[\"CustomerID\", \"InvoiceDate\"]].groupby(\"CustomerID\", as_index = False).max()\n",
    "df_recency.rename(columns = {\"InvoiceDate\": \"LastPurchaseDate\"}, inplace = True)\n",
    "df_recency\n",
    "\n",
    "# Find the date of the last order per customer "
   ]
  },
  {
   "cell_type": "code",
   "execution_count": 53,
   "id": "471a5c0a",
   "metadata": {},
   "outputs": [
    {
     "data": {
      "text/plain": [
       "0        2 days 20:58:00\n",
       "1       75 days 23:37:00\n",
       "2       19 days 02:59:00\n",
       "3      310 days 20:49:00\n",
       "4       36 days 22:13:00\n",
       "              ...       \n",
       "4322   278 days 02:58:00\n",
       "4323   181 days 01:57:00\n",
       "4324     8 days 01:07:00\n",
       "4325     4 days 00:48:00\n",
       "4326    43 days 03:21:00\n",
       "Name: LastPurchaseDate, Length: 4327, dtype: timedelta64[ns]"
      ]
     },
     "execution_count": 53,
     "metadata": {},
     "output_type": "execute_result"
    }
   ],
   "source": [
    "no_days_last_purchase = df_clean[\"InvoiceDate\"].max() - df_recency[\"LastPurchaseDate\"] \n",
    "no_days_last_purchase = no_days_last_purchase + pd.Timedelta(\"1 days\")\n",
    "no_days_last_purchase\n",
    "\n",
    "# It´s more helpful to not know the date of the last purchase, but the count of days that past since the last purchase "
   ]
  },
  {
   "cell_type": "code",
   "execution_count": 54,
   "id": "07987305",
   "metadata": {},
   "outputs": [
    {
     "data": {
      "text/plain": [
       "0         2\n",
       "1        75\n",
       "2        19\n",
       "3       310\n",
       "4        36\n",
       "       ... \n",
       "4322    278\n",
       "4323    181\n",
       "4324      8\n",
       "4325      4\n",
       "4326     43\n",
       "Length: 4327, dtype: int64"
      ]
     },
     "execution_count": 54,
     "metadata": {},
     "output_type": "execute_result"
    }
   ],
   "source": [
    "days_since_last_purchase = pd.Series(data = [d.days for d in no_days_last_purchase], index = df_merge.index)\n",
    "days_since_last_purchase"
   ]
  },
  {
   "cell_type": "code",
   "execution_count": 55,
   "id": "3789aa42",
   "metadata": {},
   "outputs": [
    {
     "data": {
      "text/html": [
       "<div>\n",
       "<style scoped>\n",
       "    .dataframe tbody tr th:only-of-type {\n",
       "        vertical-align: middle;\n",
       "    }\n",
       "\n",
       "    .dataframe tbody tr th {\n",
       "        vertical-align: top;\n",
       "    }\n",
       "\n",
       "    .dataframe thead th {\n",
       "        text-align: right;\n",
       "    }\n",
       "</style>\n",
       "<table border=\"1\" class=\"dataframe\">\n",
       "  <thead>\n",
       "    <tr style=\"text-align: right;\">\n",
       "      <th></th>\n",
       "      <th>CustomerID</th>\n",
       "      <th>Monetary</th>\n",
       "      <th>Frequency</th>\n",
       "      <th>Recency</th>\n",
       "    </tr>\n",
       "  </thead>\n",
       "  <tbody>\n",
       "    <tr>\n",
       "      <th>0</th>\n",
       "      <td>12347</td>\n",
       "      <td>4310.00</td>\n",
       "      <td>182</td>\n",
       "      <td>2</td>\n",
       "    </tr>\n",
       "    <tr>\n",
       "      <th>1</th>\n",
       "      <td>12348</td>\n",
       "      <td>1797.24</td>\n",
       "      <td>31</td>\n",
       "      <td>75</td>\n",
       "    </tr>\n",
       "    <tr>\n",
       "      <th>2</th>\n",
       "      <td>12349</td>\n",
       "      <td>1457.55</td>\n",
       "      <td>72</td>\n",
       "      <td>19</td>\n",
       "    </tr>\n",
       "    <tr>\n",
       "      <th>3</th>\n",
       "      <td>12350</td>\n",
       "      <td>334.40</td>\n",
       "      <td>17</td>\n",
       "      <td>310</td>\n",
       "    </tr>\n",
       "    <tr>\n",
       "      <th>4</th>\n",
       "      <td>12352</td>\n",
       "      <td>2129.54</td>\n",
       "      <td>84</td>\n",
       "      <td>36</td>\n",
       "    </tr>\n",
       "    <tr>\n",
       "      <th>...</th>\n",
       "      <td>...</td>\n",
       "      <td>...</td>\n",
       "      <td>...</td>\n",
       "      <td>...</td>\n",
       "    </tr>\n",
       "    <tr>\n",
       "      <th>4322</th>\n",
       "      <td>18280</td>\n",
       "      <td>180.60</td>\n",
       "      <td>10</td>\n",
       "      <td>278</td>\n",
       "    </tr>\n",
       "    <tr>\n",
       "      <th>4323</th>\n",
       "      <td>18281</td>\n",
       "      <td>80.82</td>\n",
       "      <td>7</td>\n",
       "      <td>181</td>\n",
       "    </tr>\n",
       "    <tr>\n",
       "      <th>4324</th>\n",
       "      <td>18282</td>\n",
       "      <td>178.05</td>\n",
       "      <td>12</td>\n",
       "      <td>8</td>\n",
       "    </tr>\n",
       "    <tr>\n",
       "      <th>4325</th>\n",
       "      <td>18283</td>\n",
       "      <td>2045.53</td>\n",
       "      <td>721</td>\n",
       "      <td>4</td>\n",
       "    </tr>\n",
       "    <tr>\n",
       "      <th>4326</th>\n",
       "      <td>18287</td>\n",
       "      <td>1837.28</td>\n",
       "      <td>70</td>\n",
       "      <td>43</td>\n",
       "    </tr>\n",
       "  </tbody>\n",
       "</table>\n",
       "<p>4327 rows × 4 columns</p>\n",
       "</div>"
      ],
      "text/plain": [
       "      CustomerID  Monetary  Frequency  Recency\n",
       "0          12347   4310.00        182        2\n",
       "1          12348   1797.24         31       75\n",
       "2          12349   1457.55         72       19\n",
       "3          12350    334.40         17      310\n",
       "4          12352   2129.54         84       36\n",
       "...          ...       ...        ...      ...\n",
       "4322       18280    180.60         10      278\n",
       "4323       18281     80.82          7      181\n",
       "4324       18282    178.05         12        8\n",
       "4325       18283   2045.53        721        4\n",
       "4326       18287   1837.28         70       43\n",
       "\n",
       "[4327 rows x 4 columns]"
      ]
     },
     "execution_count": 55,
     "metadata": {},
     "output_type": "execute_result"
    }
   ],
   "source": [
    "df_merge[\"Recency\"] = days_since_last_purchase\n",
    "df_merge\n",
    "\n",
    "# Now we have grouped all the rows down to per customer. Only 4327 rows left\n",
    "\n",
    "# Should we keep the CustomerID column for the modell? How else do we then know, which customer is in which cluster? "
   ]
  },
  {
   "cell_type": "code",
   "execution_count": 56,
   "id": "0a805a8b",
   "metadata": {},
   "outputs": [
    {
     "data": {
      "text/html": [
       "<div>\n",
       "<style scoped>\n",
       "    .dataframe tbody tr th:only-of-type {\n",
       "        vertical-align: middle;\n",
       "    }\n",
       "\n",
       "    .dataframe tbody tr th {\n",
       "        vertical-align: top;\n",
       "    }\n",
       "\n",
       "    .dataframe thead th {\n",
       "        text-align: right;\n",
       "    }\n",
       "</style>\n",
       "<table border=\"1\" class=\"dataframe\">\n",
       "  <thead>\n",
       "    <tr style=\"text-align: right;\">\n",
       "      <th></th>\n",
       "      <th>CustomerID</th>\n",
       "      <th>Monetary</th>\n",
       "      <th>Frequency</th>\n",
       "      <th>Recency</th>\n",
       "    </tr>\n",
       "  </thead>\n",
       "  <tbody>\n",
       "    <tr>\n",
       "      <th>count</th>\n",
       "      <td>4327.000000</td>\n",
       "      <td>4327.000000</td>\n",
       "      <td>4327.000000</td>\n",
       "      <td>4327.000000</td>\n",
       "    </tr>\n",
       "    <tr>\n",
       "      <th>mean</th>\n",
       "      <td>15298.752947</td>\n",
       "      <td>1934.511568</td>\n",
       "      <td>90.715045</td>\n",
       "      <td>92.555581</td>\n",
       "    </tr>\n",
       "    <tr>\n",
       "      <th>std</th>\n",
       "      <td>1721.231803</td>\n",
       "      <td>8166.658446</td>\n",
       "      <td>225.649953</td>\n",
       "      <td>100.055558</td>\n",
       "    </tr>\n",
       "    <tr>\n",
       "      <th>min</th>\n",
       "      <td>12347.000000</td>\n",
       "      <td>2.900000</td>\n",
       "      <td>1.000000</td>\n",
       "      <td>1.000000</td>\n",
       "    </tr>\n",
       "    <tr>\n",
       "      <th>25%</th>\n",
       "      <td>13812.500000</td>\n",
       "      <td>304.515000</td>\n",
       "      <td>17.000000</td>\n",
       "      <td>18.000000</td>\n",
       "    </tr>\n",
       "    <tr>\n",
       "      <th>50%</th>\n",
       "      <td>15298.000000</td>\n",
       "      <td>664.000000</td>\n",
       "      <td>41.000000</td>\n",
       "      <td>51.000000</td>\n",
       "    </tr>\n",
       "    <tr>\n",
       "      <th>75%</th>\n",
       "      <td>16778.500000</td>\n",
       "      <td>1637.450000</td>\n",
       "      <td>98.000000</td>\n",
       "      <td>142.000000</td>\n",
       "    </tr>\n",
       "    <tr>\n",
       "      <th>max</th>\n",
       "      <td>18287.000000</td>\n",
       "      <td>270283.460000</td>\n",
       "      <td>7676.000000</td>\n",
       "      <td>374.000000</td>\n",
       "    </tr>\n",
       "  </tbody>\n",
       "</table>\n",
       "</div>"
      ],
      "text/plain": [
       "         CustomerID       Monetary    Frequency      Recency\n",
       "count   4327.000000    4327.000000  4327.000000  4327.000000\n",
       "mean   15298.752947    1934.511568    90.715045    92.555581\n",
       "std     1721.231803    8166.658446   225.649953   100.055558\n",
       "min    12347.000000       2.900000     1.000000     1.000000\n",
       "25%    13812.500000     304.515000    17.000000    18.000000\n",
       "50%    15298.000000     664.000000    41.000000    51.000000\n",
       "75%    16778.500000    1637.450000    98.000000   142.000000\n",
       "max    18287.000000  270283.460000  7676.000000   374.000000"
      ]
     },
     "execution_count": 56,
     "metadata": {},
     "output_type": "execute_result"
    }
   ],
   "source": [
    "df_merge.describe()"
   ]
  },
  {
   "cell_type": "code",
   "execution_count": 57,
   "id": "2fdb79b4",
   "metadata": {},
   "outputs": [
    {
     "data": {
      "text/html": [
       "<div>\n",
       "<style scoped>\n",
       "    .dataframe tbody tr th:only-of-type {\n",
       "        vertical-align: middle;\n",
       "    }\n",
       "\n",
       "    .dataframe tbody tr th {\n",
       "        vertical-align: top;\n",
       "    }\n",
       "\n",
       "    .dataframe thead th {\n",
       "        text-align: right;\n",
       "    }\n",
       "</style>\n",
       "<table border=\"1\" class=\"dataframe\">\n",
       "  <thead>\n",
       "    <tr style=\"text-align: right;\">\n",
       "      <th></th>\n",
       "      <th>CustomerID</th>\n",
       "      <th>Monetary</th>\n",
       "      <th>Frequency</th>\n",
       "      <th>Recency</th>\n",
       "    </tr>\n",
       "  </thead>\n",
       "  <tbody>\n",
       "    <tr>\n",
       "      <th>0.050</th>\n",
       "      <td>12615.300</td>\n",
       "      <td>110.9290</td>\n",
       "      <td>4.000</td>\n",
       "      <td>3.0</td>\n",
       "    </tr>\n",
       "    <tr>\n",
       "      <th>0.950</th>\n",
       "      <td>17979.700</td>\n",
       "      <td>5675.0020</td>\n",
       "      <td>308.000</td>\n",
       "      <td>312.0</td>\n",
       "    </tr>\n",
       "    <tr>\n",
       "      <th>0.980</th>\n",
       "      <td>18170.480</td>\n",
       "      <td>10691.9108</td>\n",
       "      <td>476.000</td>\n",
       "      <td>361.0</td>\n",
       "    </tr>\n",
       "    <tr>\n",
       "      <th>0.990</th>\n",
       "      <td>18225.740</td>\n",
       "      <td>17247.3626</td>\n",
       "      <td>655.740</td>\n",
       "      <td>369.0</td>\n",
       "    </tr>\n",
       "    <tr>\n",
       "      <th>0.999</th>\n",
       "      <td>18279.348</td>\n",
       "      <td>121664.8225</td>\n",
       "      <td>2575.614</td>\n",
       "      <td>374.0</td>\n",
       "    </tr>\n",
       "  </tbody>\n",
       "</table>\n",
       "</div>"
      ],
      "text/plain": [
       "       CustomerID     Monetary  Frequency  Recency\n",
       "0.050   12615.300     110.9290      4.000      3.0\n",
       "0.950   17979.700    5675.0020    308.000    312.0\n",
       "0.980   18170.480   10691.9108    476.000    361.0\n",
       "0.990   18225.740   17247.3626    655.740    369.0\n",
       "0.999   18279.348  121664.8225   2575.614    374.0"
      ]
     },
     "execution_count": 57,
     "metadata": {},
     "output_type": "execute_result"
    }
   ],
   "source": [
    "df_merge.quantile([0.05, 0.95, 0.98, 0.99, 0.999])"
   ]
  },
  {
   "cell_type": "markdown",
   "id": "9ca526c5",
   "metadata": {},
   "source": [
    "#### Handling outliers of the new features "
   ]
  },
  {
   "cell_type": "code",
   "execution_count": 58,
   "id": "db594b31",
   "metadata": {},
   "outputs": [],
   "source": [
    "df_merge = df_merge[df_merge[\"Monetary\"] < 2500]\n",
    "\n",
    "# In first iteration I removed all above 10.000, second interation <4000"
   ]
  },
  {
   "cell_type": "code",
   "execution_count": 59,
   "id": "5fe3ca2f",
   "metadata": {},
   "outputs": [],
   "source": [
    "df_merge = df_merge[df_merge[\"Frequency\"] < 200]\n",
    "\n",
    "# In first iteration I removed all above 500, second second interation <250"
   ]
  },
  {
   "cell_type": "code",
   "execution_count": 60,
   "id": "0c512f77",
   "metadata": {},
   "outputs": [
    {
     "data": {
      "text/html": [
       "<div>\n",
       "<style scoped>\n",
       "    .dataframe tbody tr th:only-of-type {\n",
       "        vertical-align: middle;\n",
       "    }\n",
       "\n",
       "    .dataframe tbody tr th {\n",
       "        vertical-align: top;\n",
       "    }\n",
       "\n",
       "    .dataframe thead th {\n",
       "        text-align: right;\n",
       "    }\n",
       "</style>\n",
       "<table border=\"1\" class=\"dataframe\">\n",
       "  <thead>\n",
       "    <tr style=\"text-align: right;\">\n",
       "      <th></th>\n",
       "      <th>CustomerID</th>\n",
       "      <th>Monetary</th>\n",
       "      <th>Frequency</th>\n",
       "      <th>Recency</th>\n",
       "    </tr>\n",
       "  </thead>\n",
       "  <tbody>\n",
       "    <tr>\n",
       "      <th>count</th>\n",
       "      <td>3526.000000</td>\n",
       "      <td>3526.000000</td>\n",
       "      <td>3526.000000</td>\n",
       "      <td>3526.000000</td>\n",
       "    </tr>\n",
       "    <tr>\n",
       "      <th>mean</th>\n",
       "      <td>15336.087351</td>\n",
       "      <td>690.591898</td>\n",
       "      <td>43.860465</td>\n",
       "      <td>107.000851</td>\n",
       "    </tr>\n",
       "    <tr>\n",
       "      <th>std</th>\n",
       "      <td>1709.537112</td>\n",
       "      <td>576.582518</td>\n",
       "      <td>39.828025</td>\n",
       "      <td>103.719705</td>\n",
       "    </tr>\n",
       "    <tr>\n",
       "      <th>min</th>\n",
       "      <td>12348.000000</td>\n",
       "      <td>2.900000</td>\n",
       "      <td>1.000000</td>\n",
       "      <td>1.000000</td>\n",
       "    </tr>\n",
       "    <tr>\n",
       "      <th>25%</th>\n",
       "      <td>13849.250000</td>\n",
       "      <td>251.287500</td>\n",
       "      <td>14.000000</td>\n",
       "      <td>24.000000</td>\n",
       "    </tr>\n",
       "    <tr>\n",
       "      <th>50%</th>\n",
       "      <td>15343.500000</td>\n",
       "      <td>498.450000</td>\n",
       "      <td>30.000000</td>\n",
       "      <td>65.000000</td>\n",
       "    </tr>\n",
       "    <tr>\n",
       "      <th>75%</th>\n",
       "      <td>16804.750000</td>\n",
       "      <td>978.822500</td>\n",
       "      <td>62.000000</td>\n",
       "      <td>174.000000</td>\n",
       "    </tr>\n",
       "    <tr>\n",
       "      <th>max</th>\n",
       "      <td>18287.000000</td>\n",
       "      <td>2495.870000</td>\n",
       "      <td>197.000000</td>\n",
       "      <td>374.000000</td>\n",
       "    </tr>\n",
       "  </tbody>\n",
       "</table>\n",
       "</div>"
      ],
      "text/plain": [
       "         CustomerID     Monetary    Frequency      Recency\n",
       "count   3526.000000  3526.000000  3526.000000  3526.000000\n",
       "mean   15336.087351   690.591898    43.860465   107.000851\n",
       "std     1709.537112   576.582518    39.828025   103.719705\n",
       "min    12348.000000     2.900000     1.000000     1.000000\n",
       "25%    13849.250000   251.287500    14.000000    24.000000\n",
       "50%    15343.500000   498.450000    30.000000    65.000000\n",
       "75%    16804.750000   978.822500    62.000000   174.000000\n",
       "max    18287.000000  2495.870000   197.000000   374.000000"
      ]
     },
     "execution_count": 60,
     "metadata": {},
     "output_type": "execute_result"
    }
   ],
   "source": [
    "df_merge.describe()"
   ]
  },
  {
   "cell_type": "code",
   "execution_count": 61,
   "id": "a5c05377",
   "metadata": {},
   "outputs": [
    {
     "data": {
      "text/html": [
       "<div>\n",
       "<style scoped>\n",
       "    .dataframe tbody tr th:only-of-type {\n",
       "        vertical-align: middle;\n",
       "    }\n",
       "\n",
       "    .dataframe tbody tr th {\n",
       "        vertical-align: top;\n",
       "    }\n",
       "\n",
       "    .dataframe thead th {\n",
       "        text-align: right;\n",
       "    }\n",
       "</style>\n",
       "<table border=\"1\" class=\"dataframe\">\n",
       "  <thead>\n",
       "    <tr style=\"text-align: right;\">\n",
       "      <th></th>\n",
       "      <th>CustomerID</th>\n",
       "      <th>Monetary</th>\n",
       "      <th>Frequency</th>\n",
       "      <th>Recency</th>\n",
       "    </tr>\n",
       "  </thead>\n",
       "  <tbody>\n",
       "    <tr>\n",
       "      <th>0.050</th>\n",
       "      <td>12646.50</td>\n",
       "      <td>102.4200</td>\n",
       "      <td>4.000</td>\n",
       "      <td>4.0</td>\n",
       "    </tr>\n",
       "    <tr>\n",
       "      <th>0.950</th>\n",
       "      <td>17994.75</td>\n",
       "      <td>1960.4700</td>\n",
       "      <td>127.000</td>\n",
       "      <td>320.0</td>\n",
       "    </tr>\n",
       "    <tr>\n",
       "      <th>0.980</th>\n",
       "      <td>18175.00</td>\n",
       "      <td>2239.4350</td>\n",
       "      <td>156.000</td>\n",
       "      <td>365.0</td>\n",
       "    </tr>\n",
       "    <tr>\n",
       "      <th>0.990</th>\n",
       "      <td>18226.25</td>\n",
       "      <td>2363.1625</td>\n",
       "      <td>175.500</td>\n",
       "      <td>372.0</td>\n",
       "    </tr>\n",
       "    <tr>\n",
       "      <th>0.999</th>\n",
       "      <td>18278.95</td>\n",
       "      <td>2482.3175</td>\n",
       "      <td>195.475</td>\n",
       "      <td>374.0</td>\n",
       "    </tr>\n",
       "  </tbody>\n",
       "</table>\n",
       "</div>"
      ],
      "text/plain": [
       "       CustomerID   Monetary  Frequency  Recency\n",
       "0.050    12646.50   102.4200      4.000      4.0\n",
       "0.950    17994.75  1960.4700    127.000    320.0\n",
       "0.980    18175.00  2239.4350    156.000    365.0\n",
       "0.990    18226.25  2363.1625    175.500    372.0\n",
       "0.999    18278.95  2482.3175    195.475    374.0"
      ]
     },
     "execution_count": 61,
     "metadata": {},
     "output_type": "execute_result"
    }
   ],
   "source": [
    "df_merge.quantile([0.05, 0.95, 0.98, 0.99, 0.999])"
   ]
  },
  {
   "cell_type": "code",
   "execution_count": 62,
   "id": "f3d0587c",
   "metadata": {},
   "outputs": [
    {
     "ename": "ValueError",
     "evalue": "Expected the given number of height ratios to match the number of rows of the grid",
     "output_type": "error",
     "traceback": [
      "\u001b[1;31m---------------------------------------------------------------------------\u001b[0m",
      "\u001b[1;31mValueError\u001b[0m                                Traceback (most recent call last)",
      "\u001b[1;32m<ipython-input-62-108b814aae4b>\u001b[0m in \u001b[0;36m<module>\u001b[1;34m\u001b[0m\n\u001b[1;32m----> 1\u001b[1;33m fig, axis = plt.subplots(nrows = 1, ncols = 3, \n\u001b[0m\u001b[0;32m      2\u001b[0m                          \u001b[0mfigsize\u001b[0m \u001b[1;33m=\u001b[0m \u001b[1;33m(\u001b[0m\u001b[1;36m15\u001b[0m\u001b[1;33m,\u001b[0m \u001b[1;36m4\u001b[0m\u001b[1;33m)\u001b[0m\u001b[1;33m,\u001b[0m \u001b[0mdpi\u001b[0m \u001b[1;33m=\u001b[0m \u001b[1;36m100\u001b[0m\u001b[1;33m,\u001b[0m\u001b[1;33m\u001b[0m\u001b[1;33m\u001b[0m\u001b[0m\n\u001b[0;32m      3\u001b[0m                          \u001b[0msharex\u001b[0m \u001b[1;33m=\u001b[0m \u001b[1;32mFalse\u001b[0m\u001b[1;33m,\u001b[0m \u001b[0msharey\u001b[0m \u001b[1;33m=\u001b[0m \u001b[1;32mFalse\u001b[0m\u001b[1;33m,\u001b[0m\u001b[1;33m\u001b[0m\u001b[1;33m\u001b[0m\u001b[0m\n\u001b[0;32m      4\u001b[0m                          gridspec_kw = {'height_ratios': [3, 1]})\n\u001b[0;32m      5\u001b[0m \u001b[0msns\u001b[0m\u001b[1;33m.\u001b[0m\u001b[0mdistplot\u001b[0m\u001b[1;33m(\u001b[0m\u001b[0mdf_merge\u001b[0m\u001b[1;33m[\u001b[0m\u001b[1;34m\"Monetary\"\u001b[0m\u001b[1;33m]\u001b[0m\u001b[1;33m)\u001b[0m\u001b[1;33m\u001b[0m\u001b[1;33m\u001b[0m\u001b[0m\n",
      "\u001b[1;32m~\\anaconda3\\envs\\DA_env\\lib\\site-packages\\matplotlib\\_api\\deprecation.py\u001b[0m in \u001b[0;36mwrapper\u001b[1;34m(*args, **kwargs)\u001b[0m\n\u001b[0;32m    469\u001b[0m                 \u001b[1;34m\"parameter will become keyword-only %(removal)s.\"\u001b[0m\u001b[1;33m,\u001b[0m\u001b[1;33m\u001b[0m\u001b[1;33m\u001b[0m\u001b[0m\n\u001b[0;32m    470\u001b[0m                 name=name, obj_type=f\"parameter of {func.__name__}()\")\n\u001b[1;32m--> 471\u001b[1;33m         \u001b[1;32mreturn\u001b[0m \u001b[0mfunc\u001b[0m\u001b[1;33m(\u001b[0m\u001b[1;33m*\u001b[0m\u001b[0margs\u001b[0m\u001b[1;33m,\u001b[0m \u001b[1;33m**\u001b[0m\u001b[0mkwargs\u001b[0m\u001b[1;33m)\u001b[0m\u001b[1;33m\u001b[0m\u001b[1;33m\u001b[0m\u001b[0m\n\u001b[0m\u001b[0;32m    472\u001b[0m \u001b[1;33m\u001b[0m\u001b[0m\n\u001b[0;32m    473\u001b[0m     \u001b[1;32mreturn\u001b[0m \u001b[0mwrapper\u001b[0m\u001b[1;33m\u001b[0m\u001b[1;33m\u001b[0m\u001b[0m\n",
      "\u001b[1;32m~\\anaconda3\\envs\\DA_env\\lib\\site-packages\\matplotlib\\pyplot.py\u001b[0m in \u001b[0;36msubplots\u001b[1;34m(nrows, ncols, sharex, sharey, squeeze, subplot_kw, gridspec_kw, **fig_kw)\u001b[0m\n\u001b[0;32m   1438\u001b[0m     \"\"\"\n\u001b[0;32m   1439\u001b[0m     \u001b[0mfig\u001b[0m \u001b[1;33m=\u001b[0m \u001b[0mfigure\u001b[0m\u001b[1;33m(\u001b[0m\u001b[1;33m**\u001b[0m\u001b[0mfig_kw\u001b[0m\u001b[1;33m)\u001b[0m\u001b[1;33m\u001b[0m\u001b[1;33m\u001b[0m\u001b[0m\n\u001b[1;32m-> 1440\u001b[1;33m     axs = fig.subplots(nrows=nrows, ncols=ncols, sharex=sharex, sharey=sharey,\n\u001b[0m\u001b[0;32m   1441\u001b[0m                        \u001b[0msqueeze\u001b[0m\u001b[1;33m=\u001b[0m\u001b[0msqueeze\u001b[0m\u001b[1;33m,\u001b[0m \u001b[0msubplot_kw\u001b[0m\u001b[1;33m=\u001b[0m\u001b[0msubplot_kw\u001b[0m\u001b[1;33m,\u001b[0m\u001b[1;33m\u001b[0m\u001b[1;33m\u001b[0m\u001b[0m\n\u001b[0;32m   1442\u001b[0m                        gridspec_kw=gridspec_kw)\n",
      "\u001b[1;32m~\\anaconda3\\envs\\DA_env\\lib\\site-packages\\matplotlib\\_api\\deprecation.py\u001b[0m in \u001b[0;36mwrapper\u001b[1;34m(*args, **kwargs)\u001b[0m\n\u001b[0;32m    469\u001b[0m                 \u001b[1;34m\"parameter will become keyword-only %(removal)s.\"\u001b[0m\u001b[1;33m,\u001b[0m\u001b[1;33m\u001b[0m\u001b[1;33m\u001b[0m\u001b[0m\n\u001b[0;32m    470\u001b[0m                 name=name, obj_type=f\"parameter of {func.__name__}()\")\n\u001b[1;32m--> 471\u001b[1;33m         \u001b[1;32mreturn\u001b[0m \u001b[0mfunc\u001b[0m\u001b[1;33m(\u001b[0m\u001b[1;33m*\u001b[0m\u001b[0margs\u001b[0m\u001b[1;33m,\u001b[0m \u001b[1;33m**\u001b[0m\u001b[0mkwargs\u001b[0m\u001b[1;33m)\u001b[0m\u001b[1;33m\u001b[0m\u001b[1;33m\u001b[0m\u001b[0m\n\u001b[0m\u001b[0;32m    472\u001b[0m \u001b[1;33m\u001b[0m\u001b[0m\n\u001b[0;32m    473\u001b[0m     \u001b[1;32mreturn\u001b[0m \u001b[0mwrapper\u001b[0m\u001b[1;33m\u001b[0m\u001b[1;33m\u001b[0m\u001b[0m\n",
      "\u001b[1;32m~\\anaconda3\\envs\\DA_env\\lib\\site-packages\\matplotlib\\figure.py\u001b[0m in \u001b[0;36msubplots\u001b[1;34m(self, nrows, ncols, sharex, sharey, squeeze, subplot_kw, gridspec_kw)\u001b[0m\n\u001b[0;32m    905\u001b[0m         \u001b[1;32mif\u001b[0m \u001b[0mgridspec_kw\u001b[0m \u001b[1;32mis\u001b[0m \u001b[1;32mNone\u001b[0m\u001b[1;33m:\u001b[0m\u001b[1;33m\u001b[0m\u001b[1;33m\u001b[0m\u001b[0m\n\u001b[0;32m    906\u001b[0m             \u001b[0mgridspec_kw\u001b[0m \u001b[1;33m=\u001b[0m \u001b[1;33m{\u001b[0m\u001b[1;33m}\u001b[0m\u001b[1;33m\u001b[0m\u001b[1;33m\u001b[0m\u001b[0m\n\u001b[1;32m--> 907\u001b[1;33m         \u001b[0mgs\u001b[0m \u001b[1;33m=\u001b[0m \u001b[0mself\u001b[0m\u001b[1;33m.\u001b[0m\u001b[0madd_gridspec\u001b[0m\u001b[1;33m(\u001b[0m\u001b[0mnrows\u001b[0m\u001b[1;33m,\u001b[0m \u001b[0mncols\u001b[0m\u001b[1;33m,\u001b[0m \u001b[0mfigure\u001b[0m\u001b[1;33m=\u001b[0m\u001b[0mself\u001b[0m\u001b[1;33m,\u001b[0m \u001b[1;33m**\u001b[0m\u001b[0mgridspec_kw\u001b[0m\u001b[1;33m)\u001b[0m\u001b[1;33m\u001b[0m\u001b[1;33m\u001b[0m\u001b[0m\n\u001b[0m\u001b[0;32m    908\u001b[0m         axs = gs.subplots(sharex=sharex, sharey=sharey, squeeze=squeeze,\n\u001b[0;32m    909\u001b[0m                           subplot_kw=subplot_kw)\n",
      "\u001b[1;32m~\\anaconda3\\envs\\DA_env\\lib\\site-packages\\matplotlib\\figure.py\u001b[0m in \u001b[0;36madd_gridspec\u001b[1;34m(self, nrows, ncols, **kwargs)\u001b[0m\n\u001b[0;32m   1403\u001b[0m \u001b[1;33m\u001b[0m\u001b[0m\n\u001b[0;32m   1404\u001b[0m         \u001b[0m_\u001b[0m \u001b[1;33m=\u001b[0m \u001b[0mkwargs\u001b[0m\u001b[1;33m.\u001b[0m\u001b[0mpop\u001b[0m\u001b[1;33m(\u001b[0m\u001b[1;34m'figure'\u001b[0m\u001b[1;33m,\u001b[0m \u001b[1;32mNone\u001b[0m\u001b[1;33m)\u001b[0m  \u001b[1;31m# pop in case user has added this...\u001b[0m\u001b[1;33m\u001b[0m\u001b[1;33m\u001b[0m\u001b[0m\n\u001b[1;32m-> 1405\u001b[1;33m         \u001b[0mgs\u001b[0m \u001b[1;33m=\u001b[0m \u001b[0mGridSpec\u001b[0m\u001b[1;33m(\u001b[0m\u001b[0mnrows\u001b[0m\u001b[1;33m=\u001b[0m\u001b[0mnrows\u001b[0m\u001b[1;33m,\u001b[0m \u001b[0mncols\u001b[0m\u001b[1;33m=\u001b[0m\u001b[0mncols\u001b[0m\u001b[1;33m,\u001b[0m \u001b[0mfigure\u001b[0m\u001b[1;33m=\u001b[0m\u001b[0mself\u001b[0m\u001b[1;33m,\u001b[0m \u001b[1;33m**\u001b[0m\u001b[0mkwargs\u001b[0m\u001b[1;33m)\u001b[0m\u001b[1;33m\u001b[0m\u001b[1;33m\u001b[0m\u001b[0m\n\u001b[0m\u001b[0;32m   1406\u001b[0m         \u001b[0mself\u001b[0m\u001b[1;33m.\u001b[0m\u001b[0m_gridspecs\u001b[0m\u001b[1;33m.\u001b[0m\u001b[0mappend\u001b[0m\u001b[1;33m(\u001b[0m\u001b[0mgs\u001b[0m\u001b[1;33m)\u001b[0m\u001b[1;33m\u001b[0m\u001b[1;33m\u001b[0m\u001b[0m\n\u001b[0;32m   1407\u001b[0m         \u001b[1;32mreturn\u001b[0m \u001b[0mgs\u001b[0m\u001b[1;33m\u001b[0m\u001b[1;33m\u001b[0m\u001b[0m\n",
      "\u001b[1;32m~\\anaconda3\\envs\\DA_env\\lib\\site-packages\\matplotlib\\gridspec.py\u001b[0m in \u001b[0;36m__init__\u001b[1;34m(self, nrows, ncols, figure, left, bottom, right, top, wspace, hspace, width_ratios, height_ratios)\u001b[0m\n\u001b[0;32m    395\u001b[0m         \u001b[0mself\u001b[0m\u001b[1;33m.\u001b[0m\u001b[0mfigure\u001b[0m \u001b[1;33m=\u001b[0m \u001b[0mfigure\u001b[0m\u001b[1;33m\u001b[0m\u001b[1;33m\u001b[0m\u001b[0m\n\u001b[0;32m    396\u001b[0m \u001b[1;33m\u001b[0m\u001b[0m\n\u001b[1;32m--> 397\u001b[1;33m         super().__init__(nrows, ncols,\n\u001b[0m\u001b[0;32m    398\u001b[0m                          \u001b[0mwidth_ratios\u001b[0m\u001b[1;33m=\u001b[0m\u001b[0mwidth_ratios\u001b[0m\u001b[1;33m,\u001b[0m\u001b[1;33m\u001b[0m\u001b[1;33m\u001b[0m\u001b[0m\n\u001b[0;32m    399\u001b[0m                          height_ratios=height_ratios)\n",
      "\u001b[1;32m~\\anaconda3\\envs\\DA_env\\lib\\site-packages\\matplotlib\\gridspec.py\u001b[0m in \u001b[0;36m__init__\u001b[1;34m(self, nrows, ncols, height_ratios, width_ratios)\u001b[0m\n\u001b[0;32m     53\u001b[0m                 f\"Number of columns must be a positive integer, not {ncols}\")\n\u001b[0;32m     54\u001b[0m         \u001b[0mself\u001b[0m\u001b[1;33m.\u001b[0m\u001b[0m_nrows\u001b[0m\u001b[1;33m,\u001b[0m \u001b[0mself\u001b[0m\u001b[1;33m.\u001b[0m\u001b[0m_ncols\u001b[0m \u001b[1;33m=\u001b[0m \u001b[0mnrows\u001b[0m\u001b[1;33m,\u001b[0m \u001b[0mncols\u001b[0m\u001b[1;33m\u001b[0m\u001b[1;33m\u001b[0m\u001b[0m\n\u001b[1;32m---> 55\u001b[1;33m         \u001b[0mself\u001b[0m\u001b[1;33m.\u001b[0m\u001b[0mset_height_ratios\u001b[0m\u001b[1;33m(\u001b[0m\u001b[0mheight_ratios\u001b[0m\u001b[1;33m)\u001b[0m\u001b[1;33m\u001b[0m\u001b[1;33m\u001b[0m\u001b[0m\n\u001b[0m\u001b[0;32m     56\u001b[0m         \u001b[0mself\u001b[0m\u001b[1;33m.\u001b[0m\u001b[0mset_width_ratios\u001b[0m\u001b[1;33m(\u001b[0m\u001b[0mwidth_ratios\u001b[0m\u001b[1;33m)\u001b[0m\u001b[1;33m\u001b[0m\u001b[1;33m\u001b[0m\u001b[0m\n\u001b[0;32m     57\u001b[0m \u001b[1;33m\u001b[0m\u001b[0m\n",
      "\u001b[1;32m~\\anaconda3\\envs\\DA_env\\lib\\site-packages\\matplotlib\\gridspec.py\u001b[0m in \u001b[0;36mset_height_ratios\u001b[1;34m(self, height_ratios)\u001b[0m\n\u001b[0;32m    131\u001b[0m             \u001b[0mheight_ratios\u001b[0m \u001b[1;33m=\u001b[0m \u001b[1;33m[\u001b[0m\u001b[1;36m1\u001b[0m\u001b[1;33m]\u001b[0m \u001b[1;33m*\u001b[0m \u001b[0mself\u001b[0m\u001b[1;33m.\u001b[0m\u001b[0m_nrows\u001b[0m\u001b[1;33m\u001b[0m\u001b[1;33m\u001b[0m\u001b[0m\n\u001b[0;32m    132\u001b[0m         \u001b[1;32melif\u001b[0m \u001b[0mlen\u001b[0m\u001b[1;33m(\u001b[0m\u001b[0mheight_ratios\u001b[0m\u001b[1;33m)\u001b[0m \u001b[1;33m!=\u001b[0m \u001b[0mself\u001b[0m\u001b[1;33m.\u001b[0m\u001b[0m_nrows\u001b[0m\u001b[1;33m:\u001b[0m\u001b[1;33m\u001b[0m\u001b[1;33m\u001b[0m\u001b[0m\n\u001b[1;32m--> 133\u001b[1;33m             raise ValueError('Expected the given number of height ratios to '\n\u001b[0m\u001b[0;32m    134\u001b[0m                              'match the number of rows of the grid')\n\u001b[0;32m    135\u001b[0m         \u001b[0mself\u001b[0m\u001b[1;33m.\u001b[0m\u001b[0m_row_height_ratios\u001b[0m \u001b[1;33m=\u001b[0m \u001b[0mheight_ratios\u001b[0m\u001b[1;33m\u001b[0m\u001b[1;33m\u001b[0m\u001b[0m\n",
      "\u001b[1;31mValueError\u001b[0m: Expected the given number of height ratios to match the number of rows of the grid"
     ]
    },
    {
     "data": {
      "text/plain": [
       "<Figure size 1500x400 with 0 Axes>"
      ]
     },
     "metadata": {},
     "output_type": "display_data"
    }
   ],
   "source": [
    "fig, axis = plt.subplots(nrows = 1, ncols = 3, \n",
    "                         figsize = (15, 4), dpi = 100,\n",
    "                         sharex = False, sharey = False,\n",
    "                         gridspec_kw = {'height_ratios': [3, 1]})\n",
    "sns.distplot(df_merge[\"Monetary\"])\n",
    "sns.distplot(df_merge[\"Frequency\"])\n",
    "sns.distplot(df_merge[\"Recency\"])"
   ]
  },
  {
   "cell_type": "code",
   "execution_count": null,
   "id": "180b6868",
   "metadata": {},
   "outputs": [],
   "source": [
    "fig, axis = plt.subplots(nrows = 2, ncols = 3, \n",
    "                         figsize = (15, 4), dpi = 100,\n",
    "                         sharex = False, sharey = False,\n",
    "                         gridspec_kw = {'height_ratios': [3, 1]}\n",
    "                         )\n",
    "\n",
    "# Monetary\n",
    "axis[0, 0].hist(df_merge['Monetary'], bins = 'sturges', facecolor = 'red', edgecolor = 'black')\n",
    "sns.boxplot(x = 'Monetary', data = df_merge,  color = 'red', ax = axis[1, 0])\n",
    "axis[0, 0].set_title(\"Histogram & Boxplot for Monetary\")\n",
    "\n",
    "# Frequency\n",
    "axis[0, 1].hist(df_merge['Frequency'], bins = 'sturges', facecolor = 'green', edgecolor = 'black')\n",
    "sns.boxplot(x = 'Frequency', data = df_merge,  color = 'green', ax = axis[1, 1])\n",
    "axis[0, 1].set_title(\"Histogram & Boxplot for Frequency\")\n",
    "\n",
    "# Recency\n",
    "axis[0, 2].hist(df_merge['Recency'], bins = 'sturges', facecolor = 'purple', edgecolor = 'black')\n",
    "sns.boxplot(x = 'Recency', data = df_merge,  color = 'purple', ax = axis[1, 2])\n",
    "axis[0, 2].set_title(\"Histogram & Boxplot for Recency\")\n",
    "\n",
    "plt.show()\n",
    "\n",
    "# it´s visible that Monetary and Frequency contain outliers, the plots are skewed"
   ]
  },
  {
   "cell_type": "code",
   "execution_count": null,
   "id": "6db55e35",
   "metadata": {},
   "outputs": [],
   "source": [
    "df_merge.shape"
   ]
  },
  {
   "cell_type": "markdown",
   "id": "5614bef1",
   "metadata": {},
   "source": [
    "### Feauture Scaling"
   ]
  },
  {
   "cell_type": "markdown",
   "id": "cde5093d",
   "metadata": {},
   "source": [
    "##### Standardization\n",
    "K-Means is a distance based algorithm, thus the features need to be scaled/ normalized"
   ]
  },
  {
   "cell_type": "code",
   "execution_count": null,
   "id": "47635bd1",
   "metadata": {},
   "outputs": [],
   "source": [
    "df_scale = df_merge[[\"Monetary\",\"Frequency\",\"Recency\"]]         \n",
    "\n",
    "# Create new data frame only with the 3 features needed, without customer id. But how do I identify the customer in each cluster later on? \n",
    "# This is the first try, in the second I would change the customer id column as index \n",
    "\n",
    "# Set a single column as Index:  df.set_index('column')"
   ]
  },
  {
   "cell_type": "code",
   "execution_count": null,
   "id": "f5773651",
   "metadata": {},
   "outputs": [],
   "source": [
    "scaler = StandardScaler()\n",
    "scaler.fit(df_scale)\n",
    "df_scaled = scaler.transform(df_scale)\n",
    "\n",
    "df_rfm_scaled = pd.DataFrame(df_scaled, columns = df_scale.columns)\n",
    "\n",
    "display(df_scale.head())\n",
    "print()\n",
    "display(df_rfm_scaled.head())\n",
    "\n",
    "# The scaled features are now ready for the clustering! "
   ]
  },
  {
   "cell_type": "markdown",
   "id": "fd2f3ad2",
   "metadata": {},
   "source": [
    "### Clustering with K Means"
   ]
  },
  {
   "cell_type": "markdown",
   "id": "76948dec",
   "metadata": {},
   "source": [
    "K-means picks randomly the initial centroids, but it needs an input for the inital number of clusters. We start with 6 clusters"
   ]
  },
  {
   "cell_type": "code",
   "execution_count": null,
   "id": "7d6dd0d5",
   "metadata": {},
   "outputs": [],
   "source": [
    "kmeans = KMeans(n_clusters = 6, init = \"k-means++\", random_state = 1234)\n",
    "kmeans.fit(df_rfm_scaled)"
   ]
  },
  {
   "cell_type": "code",
   "execution_count": null,
   "id": "e472f9dd",
   "metadata": {},
   "outputs": [],
   "source": [
    "clusters = kmeans.predict(df_rfm_scaled)\n",
    "pd.Series(clusters).value_counts().sort_index()\n",
    "\n",
    "# Number of observations each cluster contains. Cluster 3 is way bigger than the others. The clustering did not went well with 6 clusters"
   ]
  },
  {
   "cell_type": "code",
   "execution_count": null,
   "id": "efb30db5",
   "metadata": {},
   "outputs": [],
   "source": [
    "cluster_labels = pd.Series(data = kmeans.labels_, index = df_scale.index)\n",
    "\n",
    "df_mean1 = pd.concat([df_scale, cluster_labels], axis = 1)\n",
    "df_mean1.columns = list(df_scale.columns) + [\"ClusterNo\"]\n",
    "df_mean1\n",
    "\n",
    "# Save the labels in a series and concat to data frame with MFR features in order to get an overview about the cluster\n",
    "# Why are there Nan in ClusterNo? "
   ]
  },
  {
   "cell_type": "code",
   "execution_count": null,
   "id": "45669983",
   "metadata": {},
   "outputs": [],
   "source": [
    "import plotly.express as px\n",
    "\n",
    "plotly_fig = px.scatter_3d(df_mean1, x = \"Monetary\", y = \"Frequency\", z = \"Recency\", color = \"ClusterNo\")\n",
    "plotly_fig.show()\n",
    "\n",
    "# From the plot it is obvious, that 6 clusters don´t cluster the MFR features approbriately"
   ]
  },
  {
   "cell_type": "code",
   "execution_count": null,
   "id": "05c8d925",
   "metadata": {},
   "outputs": [],
   "source": [
    "# assign a cluster to each example\n",
    "labels = kmeans.predict(df_rfm_scaled)\n",
    "# retrieve unique clusters\n",
    "clusters = np.unique(labels)\n",
    "# create scatter plot for samples from each cluster\n",
    "for cluster in clusters:\n",
    "    # get row indexes for samples with this cluster\n",
    "    row_ix = np.where(labels == cluster)\n",
    "    # create scatter of these samples\n",
    "    pyplot.scatter(df_scale.to_numpy()[row_ix, 1], df_scale.to_numpy()[row_ix, 2])\n",
    "    # show the plot\n",
    "    plt.clim(-0.5, 5.5)\n",
    "pyplot.show()"
   ]
  },
  {
   "cell_type": "markdown",
   "id": "0e0b0c75",
   "metadata": {},
   "source": [
    "#### Elbow Method to choose Number of Clusters"
   ]
  },
  {
   "cell_type": "code",
   "execution_count": null,
   "id": "4dc11ea2",
   "metadata": {},
   "outputs": [],
   "source": [
    "K = range(2,10)\n",
    "inertia = []\n",
    "\n",
    "for k in K:\n",
    "    kmeans = KMeans(n_clusters = k,\n",
    "                    random_state = 1234)\n",
    "    kmeans.fit(df_rfm_scaled)\n",
    "    inertia.append(kmeans.inertia_)\n",
    "\n",
    "plt.figure(figsize=(16,8))\n",
    "plt.plot(K, inertia, \"bx-\")\n",
    "plt.xlabel(\"No of clusters\")\n",
    "plt.ylabel(\"Inertia\")\n",
    "plt.xticks(np.arange(min(K), max(K)+1, 1.0))\n",
    "plt.title(\"Elbow Method showing the optimal K\")"
   ]
  },
  {
   "cell_type": "markdown",
   "id": "07cfc363",
   "metadata": {},
   "source": [
    "The elbow is visible at 3, but also 5 might be a slight elbow. Choosing number of clusters also could depend on business decisions/experience."
   ]
  },
  {
   "cell_type": "markdown",
   "id": "4166af06",
   "metadata": {},
   "source": [
    "#### Silhouette Score to choose Number of Clusters\n",
    "\n",
    "The Silhouette Score measures how similar an observation is to its own cluster compared to other clusters"
   ]
  },
  {
   "cell_type": "code",
   "execution_count": null,
   "id": "01abd7c2",
   "metadata": {},
   "outputs": [],
   "source": [
    "silhouette = []\n",
    "\n",
    "for k in range(2,10):\n",
    "    kmeans = KMeans(n_clusters = k, random_state = 1234)\n",
    "    kmeans.fit(df_rfm_scaled)\n",
    "    filename = \"Model/Kmeans_\" + str(k) + \".pickle\"\n",
    "    with open(filename, \"wb\") as f:\n",
    "        pickle.dump(kmeans,f)\n",
    "    silhouette.append(silhouette_score(df_rfm_scaled, kmeans.predict(df_rfm_scaled)))\n",
    "\n",
    "\n",
    "plt.figure(figsize=(16,8))\n",
    "plt.plot(K, silhouette, \"bx-\")\n",
    "plt.xlabel(\"No of cluster\")\n",
    "plt.ylabel(\"Silhouette score\")\n",
    "plt.xticks(np.arange(min(K), max(K)+1, 1.0))\n",
    "plt.title(\"Silhouette Curve showing optimal K\")\n",
    "\n",
    "# Determine the optimal number of clusters, in the range 2-9\n",
    "# As the number of clusters increases, the similarity of points within a cluster decreases. \n",
    "# The greater the score, the greater the separation between the clusters. The clusters then are more defined.\n",
    "\n",
    "# I am not sure how to interpret the curve: There is a distortion towards 4, but the score increases again towards 5 (and score is higher at 5, than at 4)\n",
    "# Thus, I continue with 5 clusters        "
   ]
  },
  {
   "cell_type": "code",
   "execution_count": null,
   "id": "d000930d",
   "metadata": {},
   "outputs": [],
   "source": [
    "score = silhouette_score(df_rfm_scaled, kmeans.labels_, metric =\"euclidean\")\n",
    "print(\"Silhouette Score: %.3f\" % score)\n",
    "\n",
    "# The closer the Silhouette Score is to 1, the better "
   ]
  },
  {
   "cell_type": "markdown",
   "id": "3522de8b",
   "metadata": {},
   "source": [
    "#### Adjusting K in iterations (5 Cluster)"
   ]
  },
  {
   "cell_type": "markdown",
   "id": "f330161d",
   "metadata": {},
   "source": [
    "inertia is the mean squared distance between each instance and its closest centroid"
   ]
  },
  {
   "cell_type": "code",
   "execution_count": null,
   "id": "6fa98e3e",
   "metadata": {},
   "outputs": [],
   "source": [
    "kmeans2 = KMeans(n_clusters = 5, init = \"k-means++\", random_state = 1234)\n",
    "kmeans2.fit(df_rfm_scaled)"
   ]
  },
  {
   "cell_type": "code",
   "execution_count": null,
   "id": "54f47d7d",
   "metadata": {},
   "outputs": [],
   "source": [
    "kmeans.inertia_"
   ]
  },
  {
   "cell_type": "code",
   "execution_count": null,
   "id": "46c8578b",
   "metadata": {},
   "outputs": [],
   "source": [
    "clusters2 = kmeans2.predict(df_rfm_scaled)\n",
    "pd.Series(clusters2).value_counts()"
   ]
  },
  {
   "cell_type": "code",
   "execution_count": null,
   "id": "9b3fe304",
   "metadata": {},
   "outputs": [],
   "source": [
    "cluster_labels2 = pd.Series(data = kmeans2.labels_, index = df_scale.index)\n",
    "\n",
    "df_means2 = pd.concat([df_scale, cluster_labels2], axis = 1)\n",
    "df_means2.columns = list(df_scale.columns) + [\"ClusterNo\"]\n",
    "df_means2"
   ]
  },
  {
   "cell_type": "code",
   "execution_count": null,
   "id": "4215d7de",
   "metadata": {},
   "outputs": [],
   "source": [
    "plotly_fig2 = px.scatter_3d(df_means2, x = \"Monetary\", y = \"Frequency\", z = \"Recency\", color = \"ClusterNo\")\n",
    "plotly_fig2.show()\n",
    "\n",
    "# From the plot it is obvious, that 6 clusters don´t cluster the MFR features approbriately"
   ]
  },
  {
   "cell_type": "code",
   "execution_count": null,
   "id": "4fee9d85",
   "metadata": {},
   "outputs": [],
   "source": [
    "# assign a cluster to each example\n",
    "labels = kmeans2.predict(df_rfm_scaled)\n",
    "# retrieve unique clusters\n",
    "clusters = np.unique(labels)\n",
    "# create scatter plot for samples from each cluster\n",
    "for cluster in clusters:\n",
    "    # get row indexes for samples with this cluster\n",
    "    row_ix = np.where(labels == cluster)\n",
    "    # create scatter of these samples\n",
    "    pyplot.scatter(df_scale.to_numpy()[row_ix, 1], df_scale.to_numpy()[row_ix, 2])\n",
    "    plt.clim(-0.5, 4.5)\n",
    "    \n",
    "pyplot.show()"
   ]
  },
  {
   "cell_type": "code",
   "execution_count": null,
   "id": "eb98b4da",
   "metadata": {},
   "outputs": [],
   "source": [
    "score = silhouette_score(df_rfm_scaled, kmeans2.labels_, metric =\"euclidean\")\n",
    "print(\"Silhouette Score: %.3f\" % score)\n",
    "\n",
    "# The closer the Silhouette Score is to 1, the better "
   ]
  },
  {
   "cell_type": "code",
   "execution_count": null,
   "id": "912e6753",
   "metadata": {},
   "outputs": [],
   "source": [
    "df_means2.groupby(\"ClusterNo\").mean()\n",
    "\n",
    "# Have a look at the clusters: cluster 1 is interesting, they spend a lot (similar to cluster 4), but not buy as frequent as cluster 4"
   ]
  },
  {
   "cell_type": "code",
   "execution_count": null,
   "id": "f3a0ed52",
   "metadata": {},
   "outputs": [],
   "source": [
    "df_means2.groupby(\"ClusterNo\").describe()"
   ]
  },
  {
   "cell_type": "markdown",
   "id": "c3749a9c",
   "metadata": {},
   "source": [
    "#### Insights gathering from 5 customer segments:\n",
    "\n",
    "Cluster 0:\n",
    "- 1271 customer \n",
    "- 15 pound per order on average \n",
    "- not frequent orderering, last order aprox. 2 months ago\n",
    "\n",
    "Cluster 1:\n",
    "- 717 customer\n",
    "- 21 pound on average per order, high value purchases \n",
    "- average frequent shopper \n",
    "\n",
    "Cluster 2:\n",
    "- 890 customer \n",
    "- 16 pound average/order\n",
    "- cold shopper with risk to loose \n",
    "- need to take action, as this is a huge cluster \n",
    "\n",
    "Cluster 3:\n",
    "- 263 Customer \n",
    "- only 6 pound average/order \n",
    "- but most frequent shopper (average every 3rd day (365/124)\n",
    "\n",
    "Cluster 4:\n",
    "- 385 customer\n",
    "- 19 pound average/order\n",
    "- high value orders, frequent shopper \n",
    "- most recent order, about 1 month ago \n",
    "- this is a very interesting cluster, very hot and valuable "
   ]
  },
  {
   "cell_type": "markdown",
   "id": "fbdcbf5a",
   "metadata": {},
   "source": [
    "#### Adjusting K in iteration (3 Cluster)"
   ]
  },
  {
   "cell_type": "code",
   "execution_count": null,
   "id": "31583eaf",
   "metadata": {},
   "outputs": [],
   "source": [
    "kmeans3 = KMeans(n_clusters = 3, init = \"k-means++\", random_state = 1234)\n",
    "kmeans3.fit(df_rfm_scaled)"
   ]
  },
  {
   "cell_type": "code",
   "execution_count": null,
   "id": "cc30924f",
   "metadata": {},
   "outputs": [],
   "source": [
    "clusters3 = kmeans3.predict(df_rfm_scaled)\n",
    "pd.Series(clusters3).value_counts()"
   ]
  },
  {
   "cell_type": "code",
   "execution_count": null,
   "id": "1257a9b7",
   "metadata": {},
   "outputs": [],
   "source": [
    "cluster_labels3 = pd.Series(data = kmeans3.labels_, index = df_scale.index)\n",
    "\n",
    "df_means3 = pd.concat([df_scale, cluster_labels3], axis = 1)\n",
    "df_means3.columns = list(df_scale.columns) + [\"ClusterNo\"]\n",
    "df_means3"
   ]
  },
  {
   "cell_type": "code",
   "execution_count": null,
   "id": "4b932f25",
   "metadata": {},
   "outputs": [],
   "source": [
    "plotly_fig3 = px.scatter_3d(df_means3, x = \"Monetary\", y = \"Frequency\", z = \"Recency\", color = \"ClusterNo\")\n",
    "plotly_fig3.show()\n",
    "\n",
    "# From the plot it is obvious, that 3 clusters cluster the MFR features approbriately"
   ]
  },
  {
   "cell_type": "code",
   "execution_count": null,
   "id": "188e6c36",
   "metadata": {},
   "outputs": [],
   "source": [
    "# assign a cluster to each example\n",
    "labels = kmeans3.predict(df_rfm_scaled)\n",
    "# retrieve unique clusters\n",
    "clusters = np.unique(labels)\n",
    "# create scatter plot for samples from each cluster\n",
    "for cluster in clusters:\n",
    "    # get row indexes for samples with this cluster\n",
    "    row_ix = np.where(labels == cluster)\n",
    "    # create scatter of these samples\n",
    "    pyplot.scatter(df_scale.to_numpy()[row_ix, 1], df_scale.to_numpy()[row_ix, 2])\n",
    "    plt.clim(-0.5, 2.5)\n",
    "  \n",
    "pyplot.show()"
   ]
  },
  {
   "cell_type": "code",
   "execution_count": null,
   "id": "3b6c53c5",
   "metadata": {},
   "outputs": [],
   "source": [
    "score = silhouette_score(df_rfm_scaled, kmeans3.labels_, metric =\"euclidean\")\n",
    "print(\"Silhouette Score: %.3f\" % score)\n",
    "\n",
    "# The closer the Silhouette Score is to 1, the better "
   ]
  },
  {
   "cell_type": "markdown",
   "id": "1c2dda00",
   "metadata": {},
   "source": [
    "### Decision on Number of Cluster: 3 Cluster"
   ]
  },
  {
   "cell_type": "markdown",
   "id": "e5264ee9",
   "metadata": {},
   "source": [
    "The silhouette score as well as the elbow method show, that the optimal clustering of the features happens within 3 clusters. I continue with them. But working with K-Means means working in iterations. \n",
    "For future steps: Redefine outliers to smaller ones and iterate the clustering with smaller range of rows"
   ]
  },
  {
   "cell_type": "code",
   "execution_count": null,
   "id": "0db206d6",
   "metadata": {},
   "outputs": [],
   "source": [
    "df_means3.groupby(\"ClusterNo\").mean()\n",
    "\n",
    "# Let´s have a first look at the 3 clusters: We see that cluster 1 are the most attractive customer segment. They spend the most money and shop the most frequent. "
   ]
  },
  {
   "cell_type": "code",
   "execution_count": null,
   "id": "84fd300c",
   "metadata": {},
   "outputs": [],
   "source": [
    "df_means3.groupby(\"ClusterNo\").describe()"
   ]
  },
  {
   "cell_type": "markdown",
   "id": "d1e76053",
   "metadata": {},
   "source": [
    "#### Evaluation and Conclusion from the 3 clusters:\n",
    "\n",
    "\n",
    "CLUSTER 0:\n",
    "- 935 customers\n",
    "- Monetary: The total sales is the lowest of all 3 clusters. These customers spend the least of all.(TotalAmount)\n",
    "- Frequency: The number of purchases is also the lowest.(count of InvoiceNo)\n",
    "- Recency: The last purchase was 257 days ago. These customer may already be churned.\n",
    "- Lowest/worst values of all attributes\n",
    "- These customer used to order relatively similar/frequent to cluster 2, with a slightly lower freuency but similar amount spend. But they only order ca. 1,5 times per year.\n",
    "- These customers very probably order only christmas related decoration items \n",
    "--> There is a danger that these customers get cold or don´t come back\n",
    "\n",
    "CLUSTER 1:\n",
    "- 906 customers\n",
    "- Monetary: Sales are 3 to 4 times higher than the other clusters.  \n",
    "- Frequency: Number of purchases is also 3,5 to 5 times higher than other clusters. \n",
    "- Recency: They buy the most frequent and thus the last order was only a bit more than a month ago. Purchases every 1,5 month\n",
    "- It might look, like these customers spend way more than the other clusters. But in average they spend similar to the others, but only more frequent\n",
    "- These customers probably buy very diverse items, maybe houseware and practical stuff  \n",
    "--> These are the most loyal customers. \n",
    "--> Average value is lower than cluster 2, \n",
    "--> Emphasis on increasing basket size: recommendations for other low value items, special set prices, bulk discount\n",
    "\n",
    "CLUSTER 2:\n",
    "- 1685 customers\n",
    "- Monetary: Middle value for total sales\n",
    "- Frequency: 3 times less frequent than cluster 1, purchase once per month \n",
    "- Recency: Last purchase almost two months ago \n",
    "- These customers probably not only purchase christmas decoration, but also for other occasions like easter, valentines day, halloween and maybe housewares\n",
    "--> Biggest cluster, with loyal customer, who generate most revenue. \n",
    "--> The company should focus on this cluster. Either by increasing the engagement rate: occasional special offers or sales: recommendations (low value/higher value items, increase basket size, limited edition products, bulk discounts. \n",
    "--> Priority cluster\n",
    "\n",
    "\n",
    "\n",
    "With this customer segmentation, the company understands their customer and their behaviour better. This helps in better and accurate targeting of the different segments and tailored marketing and sales activities. \n",
    "\n",
    "\n",
    "    Customers who recently bought items, are also the ones who buy more freqently and place high value orders\n",
    "    Customers who transacted long time ago, also place lower valued orders\n",
    "    Customers who buy occasionally, do not tend to buy expensive items\n",
    "\n",
    "AVERAGE ORDER VALUE??? "
   ]
  },
  {
   "cell_type": "markdown",
   "id": "4b3d9d69",
   "metadata": {},
   "source": [
    "##### Idea for visualization: Radar Chart \n",
    "https://www.python-graph-gallery.com/391-radar-chart-with-several-individuals "
   ]
  },
  {
   "cell_type": "markdown",
   "id": "cbd8d159",
   "metadata": {},
   "source": [
    "#### Saving the Model "
   ]
  },
  {
   "cell_type": "code",
   "execution_count": null,
   "id": "e4f99218",
   "metadata": {},
   "outputs": [],
   "source": [
    "with open(\"Model/Scaler.pickle\", \"wb\") as f:\n",
    "    pickle.dump(scaler,f)\n",
    "\n",
    "with open(\"Model/Kmeans3.pickle\", \"wb\") as f:\n",
    "    pickle.dump(kmeans3,f)"
   ]
  },
  {
   "cell_type": "code",
   "execution_count": null,
   "id": "f629d898",
   "metadata": {},
   "outputs": [],
   "source": [
    "def load(filename = \"filename.pickle\"): \n",
    "    try: \n",
    "        with open(filename, \"rb\") as f: \n",
    "            return pickle.load(f) \n",
    "    except FileNotFoundError: \n",
    "        print(\"File not found!\")"
   ]
  },
  {
   "cell_type": "code",
   "execution_count": null,
   "id": "36505f2c",
   "metadata": {},
   "outputs": [],
   "source": [
    "scaler2 = load(\"Model/scaler.pickle\")\n",
    "scaler2"
   ]
  },
  {
   "cell_type": "markdown",
   "id": "b5656a46",
   "metadata": {},
   "source": [
    "### Visual Evaluation of Clusters (in Tableau)\n",
    "\n",
    "Here only for conceptualization"
   ]
  },
  {
   "cell_type": "code",
   "execution_count": null,
   "id": "eb97a1da",
   "metadata": {},
   "outputs": [],
   "source": [
    "# Distribution/ Size of Clusters (Cluster 2 almost douple size)\n",
    "\n",
    "pal = [\"#682F2F\",\"#B9C0C9\", \"#9F8A78\",\"#F3AB60\"]\n",
    "pl = sns.countplot(x=[\"Monetary\", \"Frequency\", \"Recency\"], palette= pal)\n",
    "pl.set_title(\"Distribution Of The Clusters\")\n",
    "plt.show()"
   ]
  },
  {
   "cell_type": "code",
   "execution_count": null,
   "id": "8b99e60d",
   "metadata": {},
   "outputs": [],
   "source": [
    "# Clusters profile based on other feature: e.g. Country  - as scatterplott "
   ]
  },
  {
   "cell_type": "code",
   "execution_count": null,
   "id": "d2ea0470",
   "metadata": {},
   "outputs": [],
   "source": []
  },
  {
   "cell_type": "code",
   "execution_count": null,
   "id": "e3d05548",
   "metadata": {},
   "outputs": [],
   "source": []
  },
  {
   "cell_type": "markdown",
   "id": "e60de545",
   "metadata": {},
   "source": [
    "### Visual EDA "
   ]
  },
  {
   "cell_type": "code",
   "execution_count": null,
   "id": "f23bfe9e",
   "metadata": {},
   "outputs": [],
   "source": [
    "invoice_count = df_clean[\"InvoiceNo\"].value_counts().sort_values(ascending=False).iloc[0:10]\n",
    "plt.figure(figsize =(14,4))\n",
    "sns.barplot(invoice_count.index, invoice_count.values, palette = sns.cubehelix_palette(10))\n",
    "plt.ylabel(\"No of items\")\n",
    "plt.title(\"Which invoices include the most items?\");\n",
    "plt.xticks(rotation = 90);"
   ]
  },
  {
   "cell_type": "code",
   "execution_count": null,
   "id": "7319991c",
   "metadata": {},
   "outputs": [],
   "source": [
    "item_count = df_clean[\"Description\"].value_counts().sort_values(ascending=False).iloc[0:10]\n",
    "plt.figure(figsize = (14,4))\n",
    "sns.barplot(item_count.index, item_count.values, palette = sns.cubehelix_palette(10))\n",
    "plt.ylabel(\"No of items\")\n",
    "plt.title(\"Top sold items\");\n",
    "plt.xticks(rotation = 90);"
   ]
  },
  {
   "cell_type": "code",
   "execution_count": null,
   "id": "14d3adfe",
   "metadata": {},
   "outputs": [],
   "source": [
    "plt.figure(figsize=(18,6))\n",
    "sns.countplot(df_clean[df_clean['Country'] != 'United Kingdom']['Country'])\n",
    "plt.xticks(rotation=90)\n",
    "\n",
    "# PLOTTING AS MAP ALSO POSSIBLE "
   ]
  },
  {
   "cell_type": "code",
   "execution_count": null,
   "id": "685cfa8a",
   "metadata": {},
   "outputs": [],
   "source": [
    "correlation = df_clean.corr()\n",
    "correlation"
   ]
  },
  {
   "cell_type": "code",
   "execution_count": null,
   "id": "b8678cee",
   "metadata": {},
   "outputs": [],
   "source": [
    "plt.figure(figsize=(12,7))\n",
    "\n",
    "sns.heatmap(correlation,annot=True,cmap='crest')\n",
    "\n",
    "# If two features correlate, that means they contain the same information. One should be removed for the modelling"
   ]
  },
  {
   "cell_type": "code",
   "execution_count": null,
   "id": "314b5a0e",
   "metadata": {},
   "outputs": [],
   "source": [
    "correla = df_merge.corr()\n",
    "correla"
   ]
  },
  {
   "cell_type": "code",
   "execution_count": null,
   "id": "7e836f22",
   "metadata": {},
   "outputs": [],
   "source": [
    "plt.figure(figsize=(12,7))\n",
    "\n",
    "sns.heatmap(correla,annot=True,cmap='crest')"
   ]
  },
  {
   "cell_type": "code",
   "execution_count": null,
   "id": "1e7be913",
   "metadata": {},
   "outputs": [],
   "source": []
  },
  {
   "cell_type": "markdown",
   "id": "4ac5f253",
   "metadata": {},
   "source": [
    "#### Save data to excel"
   ]
  },
  {
   "cell_type": "code",
   "execution_count": null,
   "id": "0fd3f66c",
   "metadata": {},
   "outputs": [],
   "source": [
    "#df_clean.to_excel('df_retail.xlsx', index=False)"
   ]
  },
  {
   "cell_type": "code",
   "execution_count": null,
   "id": "592e4bb5",
   "metadata": {},
   "outputs": [],
   "source": [
    "#df_purchases.to_excel('df_purchases.xlsx', index=False)"
   ]
  },
  {
   "cell_type": "markdown",
   "id": "b5c8cbab",
   "metadata": {},
   "source": [
    "## Appendix"
   ]
  },
  {
   "cell_type": "markdown",
   "id": "0de7c0f0",
   "metadata": {},
   "source": [
    "#### Adjusting K in iteration (4 Cluster)"
   ]
  },
  {
   "cell_type": "code",
   "execution_count": null,
   "id": "b958ee71",
   "metadata": {},
   "outputs": [],
   "source": [
    "kmeans4 = KMeans(n_clusters = 4, init = \"k-means++\", random_state = 1234)\n",
    "kmeans4.fit(df_rfm_scaled)"
   ]
  },
  {
   "cell_type": "code",
   "execution_count": null,
   "id": "0ad8c5a0",
   "metadata": {},
   "outputs": [],
   "source": [
    "clusters4 = kmeans4.predict(df_rfm_scaled)"
   ]
  },
  {
   "cell_type": "code",
   "execution_count": null,
   "id": "069dfce0",
   "metadata": {},
   "outputs": [],
   "source": [
    "cluster_labels4 = pd.Series(data = kmeans4.labels_, index = df_scale.index)\n",
    "\n",
    "df_means4 = pd.concat([df_scale, cluster_labels4], axis = 1)\n",
    "df_means4.columns = list(df_scale.columns) + [\"ClusterNo\"]"
   ]
  },
  {
   "cell_type": "code",
   "execution_count": null,
   "id": "7e0c9e86",
   "metadata": {},
   "outputs": [],
   "source": [
    "plotly_fig4 = px.scatter_3d(df_means4, x = \"Monetary\", y = \"Frequency\", z = \"Recency\", color = \"ClusterNo\")\n",
    "plotly_fig4.show()\n"
   ]
  },
  {
   "cell_type": "code",
   "execution_count": null,
   "id": "49f92fe3",
   "metadata": {},
   "outputs": [],
   "source": [
    "df_means4.groupby(\"ClusterNo\").describe()"
   ]
  },
  {
   "cell_type": "markdown",
   "id": "d0183630",
   "metadata": {},
   "source": [
    "Cluster 0:\n",
    "- 503 customer\n",
    "- with distance the most valuable customers\n",
    "- spend 14 pound per order on average\n",
    "- shop highly frequently (every 3rd day of the year 365/116=3)\n",
    "- last order was 1,5 months ago\n",
    "- these customers might order very frequently in regards of holidays, eg. several orders before christmas \n",
    "\n",
    "Cluster 1:\n",
    "- 890 customer\n",
    "- spend 17 pound on average per order\n",
    "- occasional shopper, not so hot customer \n",
    "- last order was 37 weeks ago \n",
    "- customer who are cold with risk to loose \n",
    "\n",
    "Cluster 2:\n",
    "- 869 customer\n",
    "- spend 17 pound on average per order \n",
    "- orders every second month and quite regularly\n",
    "- these customer might buy items for everyday usage and not only decorations for holidys like christmas\n",
    "\n",
    "Cluster 3:\n",
    "- 1264 customer\n",
    "- 16 pound on average per order \n",
    "- only occasional shopper\n",
    "- last order was two months ago "
   ]
  },
  {
   "cell_type": "code",
   "execution_count": null,
   "id": "f6448e0f",
   "metadata": {},
   "outputs": [],
   "source": []
  }
 ],
 "metadata": {
  "kernelspec": {
   "display_name": "Python 3",
   "language": "python",
   "name": "python3"
  },
  "language_info": {
   "codemirror_mode": {
    "name": "ipython",
    "version": 3
   },
   "file_extension": ".py",
   "mimetype": "text/x-python",
   "name": "python",
   "nbconvert_exporter": "python",
   "pygments_lexer": "ipython3",
   "version": "3.9.6"
  }
 },
 "nbformat": 4,
 "nbformat_minor": 5
}
